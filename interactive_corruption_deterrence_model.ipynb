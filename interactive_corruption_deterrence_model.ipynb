{
 "cells": [
  {
   "cell_type": "code",
   "execution_count": 1,
   "metadata": {},
   "outputs": [],
   "source": [
    "import numpy as np\n",
    "import matplotlib.pyplot as plt \n",
    "import matplotlib as mpl\n",
    "import math\n",
    "import scipy.stats as ss\n",
    "from math import sqrt\n",
    "from matplotlib.patches import Polygon\n",
    "from ipywidgets import interactive"
   ]
  },
  {
   "cell_type": "code",
   "execution_count": 5,
   "metadata": {},
   "outputs": [
    {
     "data": {
      "application/vnd.jupyter.widget-view+json": {
       "model_id": "0ebcde1b5ce54481aed22ee5df0d087f",
       "version_major": 2,
       "version_minor": 0
      },
      "text/plain": [
       "interactive(children=(IntSlider(value=11, description='b', max=20, min=2), IntSlider(value=21, description='F'…"
      ]
     },
     "metadata": {},
     "output_type": "display_data"
    }
   ],
   "source": [
    "x = np.linspace(0,1,100)\n",
    "y = np.linspace(0,1,100)\n",
    "\n",
    "\n",
    "\n",
    "def alpha(i,b,F,pi,R,P,gammaE,gammaB,omegaE,omegaB):\n",
    "    Gamma = (1-gammaE)*(1-gammaB)\n",
    "    B = (1-omegaE)*(1-omegaB)\n",
    "    p= (1-(P/2))\n",
    "    r = (1-(R/2))\n",
    "    return ((b - F*R*gammaE*gammaB + F*R*gammaE - F*gammaE*gammaB + F*gammaB - Gamma*pi + gammaE*gammaB*F*r)/\n",
    "                   ( -B*F*Gamma*i - B*Gamma*i*pi +B*Gamma*pi - F*Gamma*p*omegaE*omegaB + F*Gamma*P*omegaE*omegaB \n",
    "                     - F*Gamma*P*omegaE + F*Gamma*omegaE*omegaB - F*Gamma*omegaB - Gamma*pi))\n",
    "\n",
    "def beta(j,b,F,pi,R,P,gammaE,gammaB,omegaE,omegaB):\n",
    "    Gamma = (1-gammaE)*(1-gammaB)\n",
    "    B = (1-omegaE)*(1-omegaB)\n",
    "    p= (1-(P/2))\n",
    "    r = (1-(R/2))\n",
    "    return ((- b*Gamma  + F*r*gammaE*gammaB - F*R*gammaE*gammaB + F*R*gammaB - F*gammaE*gammaB + F*gammaE)/\n",
    "                    (-b*B*Gamma*j + b*B*Gamma - b*Gamma - B*F*Gamma*j - F*Gamma*p*omegaE*omegaB  + F*Gamma*P*omegaE*omegaB \n",
    "                     - F*Gamma*P*omegaB + F*Gamma*omegaE*omegaB - F*Gamma*omegaE))\n",
    "\n",
    "\n",
    "\n",
    "def plotting(b,F,pi,R,P,gammaE,gammaB,omegaE,omegaB):\n",
    "    z = alpha(x,b,F,pi,R,P,gammaE,gammaB,omegaE,omegaB)\n",
    "    w = beta(y,b,F,pi,R,P,gammaE,gammaB,omegaE,omegaB)\n",
    "    fig, ax = plt.subplots()\n",
    "    ax.plot(x, z, linewidth=3)\n",
    "    ax.plot(x, w,linewidth=3)\n",
    "    fig.add_subplot(ax)\n",
    "    ax.spines['right'].set_visible(False)\n",
    "    ax.spines['top'].set_visible(False)\n",
    "    fig.text(0.92, 0.05, '$β$')\n",
    "    fig.text(0.11, 0.9, '$𝛼$')\n",
    "#    How to fix?? color the area bellow the curve\n",
    "    ax.fill_between(x, z, facecolor='red', alpha=0.1)\n",
    "    plt.ylim([0, 1])\n",
    "    plt.xlim([0, 1])\n",
    "    plt.xticks(np.arange(0,1.1,1))\n",
    "    plt.yticks(np.arange(0,1.1,1))\n",
    "    plt.title('Indiference curves')\n",
    "    plt.legend(( 'ICE Wihtout Self-Reporting', 'ICB Wihtout Self-Reporting','ICE Self-Reporting Before', 'ICB Self-Reporting Before','ICE Self-Reporting After', 'ICB Self-Reporting After','ICE Combined', 'ICB Combined', 'Corruption Zone' ),\n",
    "               loc='upper right', shadow=True)\n",
    "#    fig.text(0.3, 0.15, 'Corruption')\n",
    "#   fig.text(0.6, 0.5, 'No Corruption')\n",
    "    plt.show()\n",
    "    \n",
    "interactive_plot = interactive(plotting,b=(2,20,1),F=(2,40,1),pi=(4,40,1),R=(-1,1,0.01),P=(-1,1,0.010)\n",
    "                               ,gammaE=(0,1,0.010),gammaB=(0,1,0.010),omegaE=(0,1,0.010),omegaB=(0,1,0.010))\n",
    "interactive_plot\n"
   ]
  },
  {
   "cell_type": "code",
   "execution_count": null,
   "metadata": {},
   "outputs": [],
   "source": []
  }
 ],
 "metadata": {
  "kernelspec": {
   "display_name": "Python 3",
   "language": "python",
   "name": "python3"
  },
  "language_info": {
   "codemirror_mode": {
    "name": "ipython",
    "version": 3
   },
   "file_extension": ".py",
   "mimetype": "text/x-python",
   "name": "python",
   "nbconvert_exporter": "python",
   "pygments_lexer": "ipython3",
   "version": "3.7.1"
  }
 },
 "nbformat": 4,
 "nbformat_minor": 2
}
