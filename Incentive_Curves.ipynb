{
  "nbformat": 4,
  "nbformat_minor": 0,
  "metadata": {
    "colab": {
      "name": "Untitled2.ipynb",
      "provenance": [],
      "authorship_tag": "ABX9TyP3trEUJJFpq+C4+Q1iNF3Q",
      "include_colab_link": true
    },
    "kernelspec": {
      "name": "python3",
      "display_name": "Python 3"
    },
    "language_info": {
      "name": "python"
    }
  },
  "cells": [
    {
      "cell_type": "markdown",
      "metadata": {
        "id": "view-in-github",
        "colab_type": "text"
      },
      "source": [
        "<a href=\"https://colab.research.google.com/github/caxaxa/Chacha_PhD_Projects/blob/master/Incentive_Curves.ipynb\" target=\"_parent\"><img src=\"https://colab.research.google.com/assets/colab-badge.svg\" alt=\"Open In Colab\"/></a>"
      ]
    },
    {
      "cell_type": "code",
      "source": [
        "import numpy as np\n",
        "import matplotlib.pyplot as plt"
      ],
      "metadata": {
        "id": "QUg7_322-QqL"
      },
      "execution_count": 3,
      "outputs": []
    },
    {
      "cell_type": "code",
      "execution_count": 176,
      "metadata": {
        "id": "ewuLLrrtv_uh"
      },
      "outputs": [],
      "source": [
        "def get_IC_star(R_star,P_star):\n",
        "    n = 1000\n",
        "    x = np.arange(0.0000001, 1,1/n )\n",
        "    N = 0.5\n",
        "\n",
        "\n",
        "    alphas = np.zeros(n)\n",
        "    for i in range(0,n,1):\n",
        "      beta = i/n \n",
        "      α = 0\n",
        "      while get_y_receiver(gamma,α,beta,f,get_b_star(gamma,α,beta,c,a),c)>0:\n",
        "        α += 1/n\n",
        "        if α>1.01:\n",
        "          break\n",
        "      alphas[i] = α -1/n\n",
        "\n",
        "\n",
        "    #Ploting Indiference curves\n",
        "\n",
        "\n",
        "    R_p = []\n",
        "    for i in x:\n",
        "        R_p.append( (((R_star*f)/(gamma**2))+a)/(i*(a+f))) #\n",
        "\n",
        "    R_p = np.asarray(R_p)  \n",
        "\n",
        "\n",
        "    # P = []\n",
        "\n",
        "    # for i in x:\n",
        "    #   P.append( ((((P_star*(f))/gamma)+(a))/(a+f)) +i*0 ) #\n",
        "\n",
        "    # P = np.asarray(P) \n",
        "    P_p =  ((((P_star*(f))/gamma)+(a))/(a+f))\n",
        "\n",
        "    R_r = []\n",
        "    for i in x:\n",
        "      R_r.append( (((R_star*f)/(gamma**2))+c)/(i*(a+f))) #\n",
        "\n",
        "    R_r = np.asarray(R_r)  \n",
        "\n",
        "\n",
        "    # P = []\n",
        "\n",
        "    # for i in x:\n",
        "    #   P.append( ((((P_star*(f))/gamma)+(a))/(a+f)) +i*0 ) #\n",
        "\n",
        "    # P = np.asarray(P) \n",
        "    P_r = P_payer_solver(1000,0.5)\n",
        "\n",
        "    fig, ax = plt.subplots(figsize = (5,4))\n",
        "\n",
        "    ax.plot(x, alphas, linewidth=2)#\n",
        "    ax.plot(x,R_p,'-.',linewidth=.5 )\n",
        "    ax.axvline(P_p, color= 'green', linewidth = .8)\n",
        "    ax.plot(x,R_r,linewidth=.5 )\n",
        "    ax.plot(x,P_r,color='blue',linewidth=.5 )\n",
        "    # ax.plot(P, x ,linewidth=.5 )\n",
        "\n",
        "    fig.add_subplot(ax)\n",
        "\n",
        "    ax.spines['right'].set_visible(False)\n",
        "    ax.spines['top'].set_visible(False)\n",
        "\n",
        "    fig.text(0.92, 0.05, '$𝛽$')\n",
        "    fig.text(0.1, 0.9, '$𝛼$')\n",
        "    #fig.text(0.65, 0.08, '$𝛽~(P*) $')\n",
        "    #fig.text(0.02, 0.485, '$𝛼~(R*)$')\n",
        "\n",
        "    \n",
        "    lim = int(P_p*n) \n",
        "\n",
        "    ax.fill_between(x[0:lim + 1], alphas[0:lim + 1], facecolor='salmon', alpha=0.1)\n",
        "    ax.fill_between(x, alphas , R_p ,facecolor='white', alpha=1,label='_nolegend_')\n",
        "    ax.fill_between(x, alphas, R_p, facecolor='yellow', alpha=0.1)\n",
        "    ax.fill_between(P_p, x, facecolor='yellow', alpha=0.1)\n",
        "    ax.fill_between(x[lim + 1 : n], R_p[lim + 1 : n], facecolor='green', alpha=0.1)\n",
        "\n",
        "    plt.ylim([0, 1])\n",
        "    plt.xlim([0, 1])\n",
        "    plt.grid(False)\n",
        "    plt.xticks(np.arange(0,1.1,1))\n",
        "    plt.yticks(np.arange(0,1.1,1))\n",
        "    #plt.title('Indiference curves')\n",
        "    plt.legend(('IC Payer','Self-Reporting Bonus','Plea Agreement', 'Corruption Zone','Plea Bragaining','Self-Reporting'), loc='upper right')\n",
        "    plt.savefig('./fig2_p.pdf')\n",
        "    plt.show()"
      ]
    },
    {
      "cell_type": "code",
      "source": [
        "get_IC_star(-.5,.5)"
      ],
      "metadata": {
        "colab": {
          "base_uri": "https://localhost:8080/",
          "height": 288
        },
        "id": "uYa8DvOeVT_k",
        "outputId": "5767fe37-c7ba-4881-d86f-341bd81860d1"
      },
      "execution_count": 177,
      "outputs": [
        {
          "output_type": "display_data",
          "data": {
            "text/plain": [
              "<Figure size 360x288 with 1 Axes>"
            ],
            "image/png": "[encoded data removed]"
          },
          "metadata": {
            "needs_background": "light"
          }
        }
      ]
    },
    {
      "cell_type": "code",
      "source": [
        "((((0.5*(f))/gamma)+(a))/(a+f))"
      ],
      "metadata": {
        "colab": {
          "base_uri": "https://localhost:8080/"
        },
        "id": "jSuC4oopbBQB",
        "outputId": "dfbfeb9d-6a17-45b3-98af-2248f9709549"
      },
      "execution_count": 112,
      "outputs": [
        {
          "output_type": "execute_result",
          "data": {
            "text/plain": [
              "0.7530864197530864"
            ]
          },
          "metadata": {},
          "execution_count": 112
        }
      ]
    },
    {
      "cell_type": "code",
      "source": [
        "def get_ICs(alphas):\n",
        "    n = 1000\n",
        "    x = np.arange(0, 1,1/n )\n",
        "\n",
        "    #Ploting Indiference curves\n",
        "\n",
        "    fig, ax = plt.subplots(figsize = (5,4))\n",
        "\n",
        "    ax.plot(x, alphas, linewidth=2)\n",
        "\n",
        "    fig.add_subplot(ax)\n",
        "\n",
        "    ax.spines['right'].set_visible(False)\n",
        "    ax.spines['top'].set_visible(False)\n",
        "\n",
        "    fig.text(0.92, 0.05, '$𝛽$')\n",
        "    fig.text(0.11, 0.9, '$𝛼$')\n",
        "\n",
        "    ax.fill_between(x, alphas, facecolor='salmon', alpha=0.1)\n",
        "\n",
        "    plt.ylim([0, 1])\n",
        "    plt.xlim([0, 1])\n",
        "    plt.grid(False)\n",
        "    plt.xticks(np.arange(0,1.1,1))\n",
        "    plt.yticks(np.arange(0,1.1,1))\n",
        "    #plt.title('Indiference curves')\n",
        "    plt.legend(('Incentive Constraint','Corruption Zone' ),loc='best', shadow=False)\n",
        "    #plt.grid(True)\n",
        "    # fig.text(0.18, 0.2, 'Corruption')\n",
        "    # fig.text(0.5, 0.4, 'No Corruption')\n",
        "    plt.savefig('./fig1.pdf')\n",
        "    plt.show()"
      ],
      "metadata": {
        "id": "I6uHYIPpwIr1"
      },
      "execution_count": 101,
      "outputs": []
    },
    {
      "cell_type": "code",
      "source": [
        "def get_b_star(gamma,alpha,beta,c,a):\n",
        "  return (((gamma**2)*((1-alpha*beta)*a-alpha*beta*f)) + ((gamma**2*alpha*beta*f + c)/((gamma**2)*(1-alpha*beta))))/2\n",
        "\n",
        "def get_y_payer(gamma,alpha,beta,f,b):\n",
        "  return -b +(gamma**2)*((1-alpha*beta)*a - alpha*beta*f)\n",
        "\n",
        "def get_y_receiver(gamma,alpha,beta,f,b,c):\n",
        "  return -c +(gamma**2)*((1-alpha*beta)*b - alpha*beta*f)\n",
        "\n"
      ],
      "metadata": {
        "id": "X-Qt6x3GwRP-"
      },
      "execution_count": 6,
      "outputs": []
    },
    {
      "cell_type": "code",
      "source": [
        "a = 4\n",
        "f = 5\n",
        "c = 1\n",
        "alpha = 0\n",
        "beta = 0\n",
        "gamma = .9\n",
        "\n"
      ],
      "metadata": {
        "id": "hesIyYjny_HR"
      },
      "execution_count": 7,
      "outputs": []
    },
    {
      "cell_type": "code",
      "source": [
        "#Fixed point solution\n",
        "# Numerical Solution\n",
        "def alpha_solver(n):\n",
        "  alphas = np.zeros(n)\n",
        "  for i in range(0,n,1):\n",
        "    beta = i/n \n",
        "    α = 0\n",
        "    while get_y_receiver(gamma,α,beta,f,get_b_star(gamma,α,beta,c,a),c)>0:\n",
        "      α += 1/n\n",
        "      if α>1.01:\n",
        "        break\n",
        "    alphas[i] = α -1/n\n",
        "  return alphas\n",
        "\n",
        "alphas = alpha_solver(1000)"
      ],
      "metadata": {
        "id": "GkfefguEzpuo"
      },
      "execution_count": 8,
      "outputs": []
    },
    {
      "cell_type": "code",
      "source": [
        "#CHeck if the result is the same for the receiver\n",
        "# #Fixed point solution\n",
        "# # Numerical Solution\n",
        "# alphas = np.zeros(100)\n",
        "# for i in range(0,100,1):\n",
        "#   beta = i/100 \n",
        "#   α = 0\n",
        "#   while get_y_payer(gamma,α,beta,f,get_b_star(gamma,α,beta,c,a))>0:\n",
        "#     α += .01\n",
        "#     if α>1.02:\n",
        "#       break\n",
        "#   alphas[i] = α -0.01\n",
        "  \n",
        "\n",
        "# alphas"
      ],
      "metadata": {
        "id": "hiCU6woV-M2s"
      },
      "execution_count": 9,
      "outputs": []
    },
    {
      "cell_type": "code",
      "source": [
        "get_ICs(alphas)"
      ],
      "metadata": {
        "colab": {
          "base_uri": "https://localhost:8080/",
          "height": 288
        },
        "id": "xlDqD8m1-PSY",
        "outputId": "45934521-c09f-42c9-ea65-b30279665743"
      },
      "execution_count": 10,
      "outputs": [
        {
          "output_type": "display_data",
          "data": {
            "text/plain": [
              "<Figure size 360x288 with 1 Axes>"
            ],
            "image/png": "[encoded data removed]"
          },
          "metadata": {
            "needs_background": "light"
          }
        }
      ]
    },
    {
      "cell_type": "code",
      "source": [
        "get_IC_star(-.5,.5)"
      ],
      "metadata": {
        "colab": {
          "base_uri": "https://localhost:8080/",
          "height": 288
        },
        "id": "POBhOKBkLlyt",
        "outputId": "1b35ed88-1421-49ee-86da-9e14c7a39789"
      },
      "execution_count": 19,
      "outputs": [
        {
          "output_type": "display_data",
          "data": {
            "text/plain": [
              "<Figure size 360x288 with 1 Axes>"
            ],
            "image/png": "[encoded data removed]"
          },
          "metadata": {
            "needs_background": "light"
          }
        }
      ]
    },
    {
      "cell_type": "code",
      "source": [
        "def P_payer_solver(n,P_star):\n",
        "  P_r = np.zeros(n)\n",
        "  for i in range(0,n,1):\n",
        "    beta = i/n \n",
        "    α = 0\n",
        "    while gamma*((1-beta)*get_b_star(gamma,α,beta,c,a)-beta*f)/f < -P_star:\n",
        "      α += 1/n\n",
        "      if α>1.01:\n",
        "        break\n",
        "    P_r[i] = α -1/n\n",
        "  return P_r\n",
        "\n",
        "P_r = P_payer_solver(1000,0.5)"
      ],
      "metadata": {
        "id": "kfqR2QY9WyM3"
      },
      "execution_count": 166,
      "outputs": []
    },
    {
      "cell_type": "code",
      "source": [
        "P_p"
      ],
      "metadata": {
        "id": "vbQJ1ueRF4aW",
        "outputId": "59c5185c-e5c0-4d66-b715-ca37359f58f8",
        "colab": {
          "base_uri": "https://localhost:8080/"
        }
      },
      "execution_count": 167,
      "outputs": [
        {
          "output_type": "execute_result",
          "data": {
            "text/plain": [
              "array([-0.001, -0.001, -0.001, -0.001, -0.001, -0.001, -0.001, -0.001,\n",
              "       -0.001, -0.001, -0.001, -0.001, -0.001, -0.001, -0.001, -0.001,\n",
              "       -0.001, -0.001, -0.001, -0.001, -0.001, -0.001, -0.001, -0.001,\n",
              "       -0.001, -0.001, -0.001, -0.001, -0.001, -0.001, -0.001, -0.001,\n",
              "       -0.001, -0.001, -0.001, -0.001, -0.001, -0.001, -0.001, -0.001,\n",
              "       -0.001, -0.001, -0.001, -0.001, -0.001, -0.001, -0.001, -0.001,\n",
              "       -0.001, -0.001, -0.001, -0.001, -0.001, -0.001, -0.001, -0.001,\n",
              "       -0.001, -0.001, -0.001, -0.001, -0.001, -0.001, -0.001, -0.001,\n",
              "       -0.001, -0.001, -0.001, -0.001, -0.001, -0.001, -0.001, -0.001,\n",
              "       -0.001, -0.001, -0.001, -0.001, -0.001, -0.001, -0.001, -0.001,\n",
              "       -0.001, -0.001, -0.001, -0.001, -0.001, -0.001, -0.001, -0.001,\n",
              "       -0.001, -0.001, -0.001, -0.001, -0.001, -0.001, -0.001, -0.001,\n",
              "       -0.001, -0.001, -0.001, -0.001, -0.001, -0.001, -0.001, -0.001,\n",
              "       -0.001, -0.001, -0.001, -0.001, -0.001, -0.001, -0.001, -0.001,\n",
              "       -0.001, -0.001, -0.001, -0.001, -0.001, -0.001, -0.001, -0.001,\n",
              "       -0.001, -0.001, -0.001, -0.001, -0.001, -0.001, -0.001, -0.001,\n",
              "       -0.001, -0.001, -0.001, -0.001, -0.001, -0.001, -0.001, -0.001,\n",
              "       -0.001, -0.001, -0.001, -0.001, -0.001, -0.001, -0.001, -0.001,\n",
              "       -0.001, -0.001, -0.001, -0.001, -0.001, -0.001, -0.001, -0.001,\n",
              "       -0.001, -0.001, -0.001, -0.001, -0.001, -0.001, -0.001, -0.001,\n",
              "       -0.001, -0.001, -0.001, -0.001, -0.001, -0.001, -0.001, -0.001,\n",
              "       -0.001, -0.001, -0.001, -0.001, -0.001, -0.001, -0.001, -0.001,\n",
              "       -0.001, -0.001, -0.001, -0.001, -0.001, -0.001, -0.001, -0.001,\n",
              "       -0.001, -0.001, -0.001, -0.001, -0.001, -0.001, -0.001, -0.001,\n",
              "       -0.001, -0.001, -0.001, -0.001, -0.001, -0.001, -0.001, -0.001,\n",
              "       -0.001, -0.001, -0.001, -0.001, -0.001, -0.001, -0.001, -0.001,\n",
              "       -0.001, -0.001, -0.001, -0.001, -0.001, -0.001, -0.001, -0.001,\n",
              "       -0.001, -0.001, -0.001, -0.001, -0.001, -0.001, -0.001, -0.001,\n",
              "       -0.001, -0.001, -0.001, -0.001, -0.001, -0.001, -0.001, -0.001,\n",
              "       -0.001, -0.001, -0.001, -0.001, -0.001, -0.001, -0.001, -0.001,\n",
              "       -0.001, -0.001, -0.001, -0.001, -0.001, -0.001, -0.001, -0.001,\n",
              "       -0.001, -0.001, -0.001, -0.001, -0.001, -0.001, -0.001, -0.001,\n",
              "       -0.001, -0.001, -0.001, -0.001, -0.001, -0.001, -0.001, -0.001,\n",
              "       -0.001, -0.001, -0.001, -0.001, -0.001, -0.001, -0.001, -0.001,\n",
              "       -0.001, -0.001, -0.001, -0.001, -0.001, -0.001, -0.001, -0.001,\n",
              "       -0.001, -0.001, -0.001, -0.001, -0.001, -0.001, -0.001, -0.001,\n",
              "       -0.001, -0.001, -0.001, -0.001, -0.001, -0.001, -0.001, -0.001,\n",
              "       -0.001, -0.001, -0.001, -0.001, -0.001, -0.001, -0.001, -0.001,\n",
              "       -0.001, -0.001, -0.001, -0.001, -0.001, -0.001, -0.001, -0.001,\n",
              "       -0.001, -0.001, -0.001, -0.001, -0.001, -0.001, -0.001, -0.001,\n",
              "       -0.001, -0.001, -0.001, -0.001, -0.001, -0.001, -0.001, -0.001,\n",
              "       -0.001, -0.001, -0.001, -0.001, -0.001, -0.001, -0.001, -0.001,\n",
              "       -0.001, -0.001, -0.001, -0.001, -0.001, -0.001, -0.001, -0.001,\n",
              "       -0.001, -0.001, -0.001, -0.001, -0.001, -0.001, -0.001, -0.001,\n",
              "       -0.001, -0.001, -0.001, -0.001, -0.001, -0.001, -0.001, -0.001,\n",
              "       -0.001, -0.001, -0.001, -0.001, -0.001, -0.001, -0.001, -0.001,\n",
              "       -0.001, -0.001, -0.001, -0.001, -0.001, -0.001, -0.001, -0.001,\n",
              "       -0.001, -0.001, -0.001, -0.001, -0.001, -0.001, -0.001, -0.001,\n",
              "       -0.001, -0.001, -0.001, -0.001, -0.001, -0.001, -0.001, -0.001,\n",
              "       -0.001, -0.001, -0.001, -0.001, -0.001, -0.001, -0.001, -0.001,\n",
              "       -0.001, -0.001, -0.001, -0.001, -0.001, -0.001, -0.001, -0.001,\n",
              "       -0.001, -0.001, -0.001, -0.001, -0.001, -0.001, -0.001, -0.001,\n",
              "       -0.001, -0.001, -0.001, -0.001, -0.001, -0.001, -0.001, -0.001,\n",
              "       -0.001, -0.001, -0.001, -0.001, -0.001, -0.001, -0.001, -0.001,\n",
              "       -0.001, -0.001, -0.001, -0.001, -0.001, -0.001, -0.001, -0.001,\n",
              "       -0.001, -0.001, -0.001, -0.001, -0.001, -0.001, -0.001, -0.001,\n",
              "       -0.001, -0.001, -0.001, -0.001, -0.001, -0.001, -0.001, -0.001,\n",
              "       -0.001, -0.001, -0.001, -0.001, -0.001, -0.001, -0.001, -0.001,\n",
              "       -0.001, -0.001, -0.001, -0.001, -0.001, -0.001, -0.001, -0.001,\n",
              "       -0.001, -0.001, -0.001, -0.001, -0.001, -0.001, -0.001, -0.001,\n",
              "       -0.001, -0.001, -0.001, -0.001, -0.001, -0.001, -0.001, -0.001,\n",
              "       -0.001, -0.001, -0.001, -0.001, -0.001, -0.001, -0.001, -0.001,\n",
              "       -0.001, -0.001, -0.001, -0.001, -0.001, -0.001, -0.001, -0.001,\n",
              "       -0.001, -0.001, -0.001, -0.001, -0.001, -0.001, -0.001, -0.001,\n",
              "       -0.001, -0.001, -0.001, -0.001, -0.001, -0.001, -0.001, -0.001,\n",
              "       -0.001, -0.001, -0.001, -0.001, -0.001, -0.001, -0.001, -0.001,\n",
              "       -0.001, -0.001, -0.001, -0.001, -0.001, -0.001, -0.001, -0.001,\n",
              "       -0.001, -0.001, -0.001, -0.001, -0.001, -0.001, -0.001, -0.001,\n",
              "       -0.001, -0.001, -0.001, -0.001, -0.001, -0.001, -0.001, -0.001,\n",
              "       -0.001, -0.001, -0.001, -0.001, -0.001, -0.001, -0.001, -0.001,\n",
              "       -0.001, -0.001, -0.001, -0.001, -0.001, -0.001, -0.001, -0.001,\n",
              "       -0.001, -0.001, -0.001, -0.001, -0.001, -0.001, -0.001, -0.001,\n",
              "       -0.001, -0.001, -0.001, -0.001, -0.001, -0.001, -0.001, -0.001,\n",
              "       -0.001, -0.001, -0.001, -0.001, -0.001, -0.001, -0.001, -0.001,\n",
              "       -0.001, -0.001, -0.001, -0.001, -0.001, -0.001, -0.001, -0.001,\n",
              "       -0.001, -0.001, -0.001, -0.001, -0.001, -0.001, -0.001, -0.001,\n",
              "       -0.001, -0.001, -0.001, -0.001, -0.001, -0.001, -0.001, -0.001,\n",
              "       -0.001, -0.001, -0.001, -0.001, -0.001, -0.001, -0.001, -0.001,\n",
              "       -0.001, -0.001, -0.001, -0.001, -0.001, -0.001, -0.001, -0.001,\n",
              "       -0.001, -0.001, -0.001, -0.001, -0.001, -0.001, -0.001, -0.001,\n",
              "       -0.001, -0.001, -0.001, -0.001, -0.001, -0.001, -0.001, -0.001,\n",
              "       -0.001, -0.001, -0.001, -0.001, -0.001, -0.001, -0.001, -0.001,\n",
              "       -0.001, -0.001, -0.001, -0.001, -0.001, -0.001, -0.001, -0.001,\n",
              "       -0.001, -0.001, -0.001, -0.001, -0.001, -0.001, -0.001, -0.001,\n",
              "       -0.001, -0.001, -0.001, -0.001, -0.001, -0.001, -0.001, -0.001,\n",
              "       -0.001, -0.001, -0.001, -0.001, -0.001, -0.001, -0.001, -0.001,\n",
              "       -0.001, -0.001, -0.001, -0.001, -0.001,  0.211,  0.254,  0.285,\n",
              "        0.311,  0.333,  0.352,  0.37 ,  0.386,  0.401,  0.415,  0.428,\n",
              "        0.44 ,  0.451,  0.462,  0.472,  0.482,  0.492,  0.501,  0.51 ,\n",
              "        0.518,  0.526,  0.534,  0.542,  0.549,  0.556,  0.563,  0.57 ,\n",
              "        0.576,  0.582,  0.588,  0.594,  0.6  ,  0.606,  0.612,  0.617,\n",
              "        0.622,  0.627,  0.632,  0.637,  0.642,  0.647,  0.652,  0.656,\n",
              "        0.661,  0.665,  0.669,  0.673,  0.677,  0.681,  0.685,  0.689,\n",
              "        0.693,  0.697,  0.701,  0.704,  0.708,  0.711,  0.715,  0.718,\n",
              "        0.721,  0.725,  0.728,  0.731,  0.734,  0.737,  0.74 ,  0.743,\n",
              "        0.746,  0.749,  0.752,  0.755,  0.758,  0.76 ,  0.763,  0.766,\n",
              "        0.768,  0.771,  0.773,  0.776,  0.778,  0.781,  0.783,  0.786,\n",
              "        0.788,  0.79 ,  0.793,  0.795,  0.797,  0.799,  0.801,  0.804,\n",
              "        0.806,  0.808,  0.81 ,  0.812,  0.814,  0.816,  0.818,  0.82 ,\n",
              "        0.822,  0.824,  0.826,  0.827,  0.829,  0.831,  0.833,  0.835,\n",
              "        0.836,  0.838,  0.84 ,  0.841,  0.843,  0.845,  0.846,  0.848,\n",
              "        0.85 ,  0.851,  0.853,  0.854,  0.856,  0.857,  0.859,  0.86 ,\n",
              "        0.862,  0.863,  0.865,  0.866,  0.868,  0.869,  0.87 ,  0.872,\n",
              "        0.873,  0.875,  0.876,  0.877,  0.879,  0.88 ,  0.881,  0.882,\n",
              "        0.884,  0.885,  0.886,  0.887,  0.888,  0.89 ,  0.891,  0.892,\n",
              "        0.893,  0.894,  0.896,  0.897,  0.898,  0.899,  0.9  ,  0.901,\n",
              "        0.902,  0.903,  0.904,  0.905,  0.906,  0.907,  0.908,  0.909,\n",
              "        0.91 ,  0.911,  0.912,  0.913,  0.914,  0.915,  0.916,  0.917,\n",
              "        0.918,  0.919,  0.92 ,  0.921,  0.922,  0.923,  0.924,  0.925,\n",
              "        0.925,  0.926,  0.927,  0.928,  0.929,  0.93 ,  0.931,  0.931,\n",
              "        0.932,  0.933,  0.934,  0.935,  0.935,  0.936,  0.937,  0.938,\n",
              "        0.939,  0.939,  0.94 ,  0.941,  0.942,  0.942,  0.943,  0.944,\n",
              "        0.944,  0.945,  0.946,  0.947,  0.947,  0.948,  0.949,  0.949,\n",
              "        0.95 ,  0.951,  0.951,  0.952,  0.953,  0.953,  0.954,  0.955,\n",
              "        0.955,  0.956,  0.957,  0.957,  0.958,  0.959,  0.959,  0.96 ,\n",
              "        0.96 ,  0.961,  0.962,  0.962,  0.963,  0.963,  0.964,  0.965,\n",
              "        0.965,  0.966,  0.966,  0.967,  0.967,  0.968,  0.969,  0.969,\n",
              "        0.97 ,  0.97 ,  0.971,  0.971,  0.972,  0.972,  0.973,  0.973,\n",
              "        0.974,  0.974,  0.975,  0.976,  0.976,  0.977,  0.977,  0.978,\n",
              "        0.978,  0.979,  0.979,  0.98 ,  0.98 ,  0.981,  0.981,  0.982,\n",
              "        0.982,  0.982,  0.983,  0.983,  0.984,  0.984,  0.985,  0.985,\n",
              "        0.986,  0.986,  0.987,  0.987,  0.988,  0.988,  0.988,  0.989,\n",
              "        0.989,  0.99 ,  0.99 ,  0.991,  0.991,  0.992,  0.992,  0.992,\n",
              "        0.993,  0.993,  0.994,  0.994,  0.995,  0.995,  0.995,  0.996,\n",
              "        0.996,  0.997,  0.997,  0.997,  0.998,  0.998,  0.999,  0.999])"
            ]
          },
          "metadata": {},
          "execution_count": 167
        }
      ]
    },
    {
      "cell_type": "code",
      "source": [
        ""
      ],
      "metadata": {
        "id": "FwQO8xMYF5sS"
      },
      "execution_count": null,
      "outputs": []
    }
  ]
}