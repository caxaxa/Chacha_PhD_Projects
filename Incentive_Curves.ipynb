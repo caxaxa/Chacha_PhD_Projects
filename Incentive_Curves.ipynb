{
  "nbformat": 4,
  "nbformat_minor": 0,
  "metadata": {
    "colab": {
      "name": "Untitled2.ipynb",
      "provenance": [],
      "authorship_tag": "ABX9TyPL/lP/PmiECOW60xpT4c+J",
      "include_colab_link": true
    },
    "kernelspec": {
      "name": "python3",
      "display_name": "Python 3"
    },
    "language_info": {
      "name": "python"
    }
  },
  "cells": [
    {
      "cell_type": "markdown",
      "metadata": {
        "id": "view-in-github",
        "colab_type": "text"
      },
      "source": [
        "<a href=\"https://colab.research.google.com/github/caxaxa/Chacha_PhD_Projects/blob/master/Incentive_Curves.ipynb\" target=\"_parent\"><img src=\"https://colab.research.google.com/assets/colab-badge.svg\" alt=\"Open In Colab\"/></a>"
      ]
    },
    {
      "cell_type": "code",
      "execution_count": 2,
      "metadata": {
        "id": "ewuLLrrtv_uh"
      },
      "outputs": [],
      "source": [
        "def get_IC_star(R_star,P_star):\n",
        "    n = 100\n",
        "    x = np.arange(0.0000001, 1,1/n )\n",
        "    N = 0.5\n",
        "\n",
        "    alphaIE = []\n",
        "    for i in x:\n",
        "        alphaIE.append(((-get_b_star(gamma,alpha,beta,c_b,a)/(gamma**2)) + a)/(i*(a+f))) #\n",
        "\n",
        "    alphaIE = np.asarray(alphaIE)      \n",
        "\n",
        "    alphaIB = []\n",
        "\n",
        "    for i in x:\n",
        "        alphaIB.append(((-c_b/(gamma**2)) + b)/ (i*(b+f)))  #\n",
        "\n",
        "    alphaIB = np.asarray(alphaIB)   \n",
        "\n",
        "    #Ploting Indiference curves\n",
        "\n",
        "    R = []\n",
        "    for i in x:\n",
        "        R.append((((gamma**2)*a) +( R_star*f))/(((gamma**2)*(a+f))*i)) #\n",
        "\n",
        "    R = np.asarray(R)  \n",
        "\n",
        "\n",
        "    P = [((gamma*a) +( P_star*f))/(gamma*(a+f))]*n\n",
        "\n",
        "    lim = int(((gamma*a) +( P_star*f))/(gamma*(a+f))*100)\n",
        "\n",
        "    P = np.asarray(P)  \n",
        "\n",
        "    fig, ax = plt.subplots(figsize = (5,4))\n",
        "\n",
        "    ax.plot(x, alphaIE, linewidth=2)\n",
        "    ax.plot(x, alphaIB,'--', linewidth=2)\n",
        "    ax.plot(x,R,'-.',linewidth=.5 )\n",
        "    ax.plot(P, x,linewidth=.5 )\n",
        "\n",
        "    fig.add_subplot(ax)\n",
        "\n",
        "    ax.spines['right'].set_visible(False)\n",
        "    ax.spines['top'].set_visible(False)\n",
        "\n",
        "    fig.text(0.92, 0.05, '$𝛽$')\n",
        "    fig.text(0.1, 0.9, '$𝛼$')\n",
        "    #fig.text(0.65, 0.08, '$𝛽~(P*) $')\n",
        "    #fig.text(0.02, 0.485, '$𝛼~(R*)$')\n",
        "\n",
        "    ax.fill_between(x[0:lim + 1], alphaIE[0:lim + 1], facecolor='salmon', alpha=0.1)\n",
        "    ax.fill_between(x[lim:100], alphaIE[lim:100], facecolor='green', alpha=0.1)\n",
        "    ax.fill_between( x, alphaIE , R ,facecolor='white', alpha=1,label='_nolegend_')\n",
        "    ax.fill_between(x, alphaIE, R, facecolor='yellow', alpha=0.1)\n",
        "\n",
        "    plt.ylim([0, 1])\n",
        "    plt.xlim([0, 1])\n",
        "    plt.grid(True)\n",
        "    plt.xticks(np.arange(0,1.1,.1))\n",
        "    plt.yticks(np.arange(0,1.1,.1))\n",
        "    #plt.title('Indiference curves')\n",
        "    plt.legend(('IC Payer', 'IC Receiver','Self-Reporting Bonus','Plea Agreement', 'Corruption Zone','Plea Bragaining','Self-Reporting'), bbox_to_anchor=(1.05, 1), loc='upper left')\n",
        "    plt.savefig('./Plottings/ICSTAR_{}_W_{}_a_{}_b_{}_R_{}_P_{}_a_{}_b_{}_c_{}_f_{}_r_{}_p{}_ir{}_eta{}.pdf'\n",
        "                .format(player,W_bar,str(alpha)[-1],str(beta)[-1],str(R)[-1],str(P)[-1],a,b,c_b,f,str(r)[-1],str(p)[-1],str(ir)[-1],str(eta)[-1]))\n",
        "    plt.show()"
      ]
    },
    {
      "cell_type": "code",
      "source": [
        "def get_ICs():\n",
        "    n = 100\n",
        "    x = np.arange(0.0000001, 1,1/n )\n",
        "    N = 0.5\n",
        "\n",
        "    alphaIE = []\n",
        "    for i in x:\n",
        "        alphaIE.append(((-b/(gamma**2)) + a)/ (i*(a+f))) #\n",
        "\n",
        "    alphaIE = np.asarray(alphaIE)      \n",
        "\n",
        "    alphaIB = []\n",
        "\n",
        "    for i in x:\n",
        "        alphaIB.append(((-c_b/(gamma**2)) + b)/ (i*(b+f)))  #\n",
        "\n",
        "    alphaIB = np.asarray(alphaIB)   \n",
        "\n",
        "    #Ploting Indiference curves\n",
        "\n",
        "    fig, ax = plt.subplots(figsize = (5,4))\n",
        "\n",
        "    ax.plot(x, alphaIE, linewidth=2)\n",
        "    ax.plot(x, alphaIB,'--', linewidth=2)\n",
        "\n",
        "    fig.add_subplot(ax)\n",
        "\n",
        "    ax.spines['right'].set_visible(False)\n",
        "    ax.spines['top'].set_visible(False)\n",
        "\n",
        "    fig.text(0.92, 0.05, '$𝛽$')\n",
        "    fig.text(0.11, 0.9, '$𝛼$')\n",
        "\n",
        "    ax.fill_between(x, alphaIE, facecolor='salmon', alpha=0.1)\n",
        "\n",
        "    plt.ylim([0, 1])\n",
        "    plt.xlim([0, 1])\n",
        "    plt.grid(True)\n",
        "    plt.xticks(np.arange(0,1.1,.1))\n",
        "    plt.yticks(np.arange(0,1.1,.1))\n",
        "    #plt.title('Indiference curves')\n",
        "    plt.legend(('IC Payer', 'IC Receiver', 'Corruption Zone' ),\n",
        "               loc='best', shadow=False)\n",
        "    #plt.grid(True)\n",
        "    # fig.text(0.18, 0.2, 'Corruption')\n",
        "    # fig.text(0.5, 0.4, 'No Corruption')\n",
        "    plt.savefig('./Plottings/ICS_{}_W_{}_a_{}_b_{}_R_{}_P_{}_a_{}_b_{}_c_{}_f_{}_r_{}_p{}_eta{}.pdf'.format(player,W_bar,str(alpha)[-1],str(beta)[-1],str(R)[-1],str(P)[-1],a,b,c_b,f,str(r)[-1],str(p)[-1],str(eta)[-1]))\n",
        "    plt.show()"
      ],
      "metadata": {
        "id": "I6uHYIPpwIr1"
      },
      "execution_count": 3,
      "outputs": []
    },
    {
      "cell_type": "code",
      "source": [
        "def get_b_star(gamma,alpha,beta,c_b,a):\n",
        "  return (((gamma**2)*((1-alpha*beta)*a-alpha*beta*f)) + ((c_b-gamma**2*alpha*beta*f)/((gamma**2)*(1-alpha*beta))))/2\n"
      ],
      "metadata": {
        "id": "X-Qt6x3GwRP-"
      },
      "execution_count": 18,
      "outputs": []
    },
    {
      "cell_type": "code",
      "source": [
        "a = 5\n",
        "f = 5\n",
        "c_b = 1\n",
        "\n",
        "alpha = .1\n",
        "beta = .6\n",
        "\n",
        "gamma = .9"
      ],
      "metadata": {
        "id": "hesIyYjny_HR"
      },
      "execution_count": 21,
      "outputs": []
    },
    {
      "cell_type": "code",
      "source": [
        "get_b_star(gamma,alpha,beta,c_b,a)"
      ],
      "metadata": {
        "colab": {
          "base_uri": "https://localhost:8080/"
        },
        "id": "_FTSp0Jkzdcf",
        "outputId": "664a54db-b8c3-4bb5-b22d-fe976e7e0e89"
      },
      "execution_count": 22,
      "outputs": [
        {
          "output_type": "execute_result",
          "data": {
            "text/plain": [
              "2.2791105857630676"
            ]
          },
          "metadata": {},
          "execution_count": 22
        }
      ]
    },
    {
      "cell_type": "code",
      "source": [
        ""
      ],
      "metadata": {
        "id": "GkfefguEzpuo"
      },
      "execution_count": null,
      "outputs": []
    }
  ]
}