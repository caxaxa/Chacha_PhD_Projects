{
  "nbformat": 4,
  "nbformat_minor": 0,
  "metadata": {
    "colab": {
      "name": "Untitled2.ipynb",
      "provenance": [],
      "authorship_tag": "ABX9TyMF/BZx/ZSdWVLoLPmNXNPP",
      "include_colab_link": true
    },
    "kernelspec": {
      "name": "python3",
      "display_name": "Python 3"
    },
    "language_info": {
      "name": "python"
    }
  },
  "cells": [
    {
      "cell_type": "markdown",
      "metadata": {
        "id": "view-in-github",
        "colab_type": "text"
      },
      "source": [
        "<a href=\"https://colab.research.google.com/github/caxaxa/Chacha_PhD_Projects/blob/master/Incentive_Curves.ipynb\" target=\"_parent\"><img src=\"https://colab.research.google.com/assets/colab-badge.svg\" alt=\"Open In Colab\"/></a>"
      ]
    },
    {
      "cell_type": "code",
      "source": [
        "import numpy as np\n",
        "import matplotlib.pyplot as plt"
      ],
      "metadata": {
        "id": "QUg7_322-QqL"
      },
      "execution_count": 1,
      "outputs": []
    },
    {
      "cell_type": "code",
      "source": [
        "def get_ICs(n, alphas):\n",
        "    x = np.arange(0, 1,1/n )\n",
        "\n",
        "    #Ploting Indiference curves\n",
        "\n",
        "    fig, ax = plt.subplots(figsize = (5,4))\n",
        "\n",
        "    ax.plot(x, alphas, linewidth=2)\n",
        "\n",
        "    fig.add_subplot(ax)\n",
        "\n",
        "    ax.spines['right'].set_visible(False)\n",
        "    ax.spines['top'].set_visible(False)\n",
        "\n",
        "    fig.text(0.92, 0.05, '$𝛽$')\n",
        "    fig.text(0.11, 0.9, '$𝛼$')\n",
        "\n",
        "    ax.fill_between(x, alphas, facecolor='salmon', alpha=0.1)\n",
        "\n",
        "    plt.ylim([0, 1])\n",
        "    plt.xlim([0, 1])\n",
        "    plt.grid(False)\n",
        "    plt.xticks(np.arange(0,1.1,1))\n",
        "    plt.yticks(np.arange(0,1.1,1))\n",
        "    #plt.title('Indiference curves')\n",
        "    plt.legend(('Incentive Constraint','Corruption Zone' ),loc='best', shadow=False)\n",
        "    #plt.grid(True)\n",
        "    # fig.text(0.18, 0.2, 'Corruption')\n",
        "    # fig.text(0.5, 0.4, 'No Corruption')\n",
        "    plt.savefig('./fig1.pdf')\n",
        "    plt.show()"
      ],
      "metadata": {
        "id": "I6uHYIPpwIr1"
      },
      "execution_count": 170,
      "outputs": []
    },
    {
      "cell_type": "code",
      "source": [
        "def get_b_star(gamma,alpha,beta,c,a,f):\n",
        "  return (((gamma**2)*((1-alpha*beta)*a-alpha*beta*f)) + ((gamma**2*alpha*beta*f+c)/((gamma**2)*(1-alpha*beta))))/2\n",
        "\n",
        "def get_y_payer(gamma,alpha,beta,f,b):\n",
        "  return -b +(gamma**2)*((1-alpha*beta)*a - alpha*beta*f)\n",
        "\n",
        "def get_y_receiver(gamma,alpha,beta,f,b,c):\n",
        "  return -c +(gamma**2)*((1-alpha*beta)*b - alpha*beta*f)\n",
        "\n",
        "#Creat the function in py: only for creating the inicial variable:\n",
        "\n",
        "\n",
        "def u(c,eta):\n",
        "    if c == 1:\n",
        "      return np.log(c)\n",
        "    elif c > 0 :\n",
        "      return (((c**(1-eta))-1)/(1-eta))\n",
        "    else:\n",
        "      return -(((-c**(1-eta))-1)/(1-eta))\n",
        "\n",
        "## Icentive Constraint Function\n",
        "\n",
        "def alpha_solver(n,gamma,alpha,beta,a,c,f):\n",
        "  alphas = np.zeros(n)\n",
        "  for i in range(0,n,1):\n",
        "    beta = i/n \n",
        "    alpha = 0\n",
        "    while get_y_payer(gamma,alpha,beta,u(f,eta),u(get_b_star(gamma,alpha,beta,c,a,f),eta)) > 0:\n",
        "      alpha += 1/n\n",
        "      if alpha>1.01:\n",
        "        break\n",
        "    alphas[i] = alpha -1/n\n",
        "  return alphas\n",
        "\n",
        "## R_payer Function\n",
        "\n",
        "def R_payer_solver(n,gamma,alpha,beta,a,c,f,R):\n",
        "  R_p = np.zeros(n)\n",
        "  for i in range(0,n,1):\n",
        "    beta = i/n \n",
        "    alpha = 0\n",
        "    while (gamma**2)*((1-alpha*beta)*u(get_b_star(gamma,alpha,beta,c,a,f),eta) - alpha*beta*u(f,eta)) > - u(R*f,eta):\n",
        "      alpha += 1/n\n",
        "      if alpha > 1.01:\n",
        "        break\n",
        "    R_p[i] = alpha - 1/n\n",
        "  return R_p\n",
        "\n",
        "## P_payer Function\n",
        "\n",
        "def P_payer_solver(n,gamma,alpha,beta,a,c,f,P):\n",
        "  P_p = np.zeros(n)\n",
        "  for i in range(0,n,1):\n",
        "    beta = i/n \n",
        "    alpha = 0\n",
        "    while (gamma*((1-beta)*u(get_b_star(gamma,alpha,beta,c,a,f),eta) - beta*u(f,eta)) > -u(P*f,eta)):\n",
        "      alpha += 1/n\n",
        "      if alpha>1.01:\n",
        "        break\n",
        "    P_p[i] = alpha -1/n\n",
        "  return P_p\n",
        "\n",
        "\n",
        "def R_receiver_solver(n,gamma,alpha,beta,a,c,f,R):\n",
        "  R_r = np.zeros(n)\n",
        "  for i in range(0,n,1):\n",
        "    beta = i/n \n",
        "    alpha = 0\n",
        "    while (gamma**2)*((1-alpha*beta)*u(a,eta) - alpha*beta*u(f,eta)) > -u (R*f,eta):\n",
        "      alpha += 1/n\n",
        "      if alpha > 1.01:\n",
        "        break\n",
        "    R_r[i] = alpha - 1/n\n",
        "  return R_r\n",
        "\n",
        "## P_payer Function\n",
        "\n",
        "def P_receiver_solver(n,gamma,alpha,beta,a,c,f,P):\n",
        "  P_r = np.zeros(n)\n",
        "  for i in range(0,n,1):\n",
        "    beta = i/n \n",
        "    alpha = 0\n",
        "    while (gamma*((1-beta)*u(a,eta) - beta*u(f,eta)) > -u(P*f,eta)):\n",
        "      alpha += 1/n\n",
        "      if alpha>1.01:\n",
        "        break\n",
        "    P_r[i] = alpha -1/n\n",
        "  return P_r\n",
        "\n",
        "\n",
        "# Setting Inicial State\n",
        "\n",
        "j = 500\n",
        "gamma = 0.9\n",
        "alpha = 0.4\n",
        "beta = 0.3\n",
        "a = 10\n",
        "c = 1\n",
        "f = 20\n",
        "eta = 0\n",
        "R = -.1\n",
        "r = 0.5\n",
        "P = .6\n",
        "p = .9\n",
        "n = 500\n"
      ],
      "metadata": {
        "id": "X-Qt6x3GwRP-"
      },
      "execution_count": 185,
      "outputs": []
    },
    {
      "cell_type": "code",
      "source": [
        "def get_IC_star(n,R_star,P_star,show_arrow = False):\n",
        "    x = np.arange(0.0000001, 1,1/n )\n",
        "    N = 0.5\n",
        "\n",
        "\n",
        "    alphas = alpha_solver(n,gamma,alpha,beta,a,c,f)\n",
        "\n",
        "    #Ploting Indiference curves\n",
        "\n",
        "    P_p = P_payer_solver(n,gamma,alpha,beta,a,c,f,P_star)\n",
        "    R_p = R_payer_solver(n,gamma,alpha,beta,a,c,f,R_star)\n",
        "\n",
        "    R_r = R_receiver_solver(n,gamma,alpha,beta,a,c,f,R_star)\n",
        "\n",
        "    P_r = P_receiver_solver(n,gamma,alpha,beta,a,c,f,P_star)\n",
        "    \n",
        "\n",
        "    fig, ax = plt.subplots(figsize = (7,4))\n",
        "\n",
        "    ax.plot(x, alphas, linewidth=2)\n",
        "    ax.plot(x,R_p,'-.',linewidth=.5 )\n",
        "    ax.plot(x,R_r,linewidth=.5 )\n",
        "    ax.plot(x,P_p,'--',color='blue',linewidth=.5 )\n",
        "    ax.plot(x,P_r, color= 'green', linewidth = .8)\n",
        "\n",
        "    # ax.plot(P, x ,linewidth=.5 )\n",
        "\n",
        "    fig.add_subplot(ax)\n",
        "\n",
        "    ax.spines['right'].set_visible(False)\n",
        "    ax.spines['top'].set_visible(False)\n",
        "\n",
        "    fig.text(0.58, 0.05, '$𝛽$')\n",
        "    fig.text(0.025, 0.9, '$𝛼$')\n",
        "    #fig.text(0.65, 0.08, '$𝛽~(P*) $')\n",
        "    #fig.text(0.02, 0.485, '$𝛼~(R*)$')\n",
        "\n",
        "    \n",
        "    lim = int(625) \n",
        "\n",
        "    ax.fill_between(x[0:lim], alphas[0:lim], facecolor='salmon', alpha=0.1)\n",
        "    ax.fill_between(x, alphas , R_p ,facecolor='white', alpha=1,label='_nolegend_')\n",
        "    ax.fill_between(x, alphas, R_p, facecolor='yellow', alpha=0.1)\n",
        "    #ax.fill_between(P_p, x, facecolor='yellow', alpha=0.1)\n",
        "    ax.fill_between(x[lim: n], R_p[lim : n], facecolor='green', alpha=0.1)\n",
        "\n",
        "    if show_arrow == True:\n",
        "      ax.arrow(0.6, 0.17,- 0.05,- 0.05, head_width=0.02, head_length=0.02 )\n",
        "      ax.arrow(0.6, 0.17, 0.05, 0.05, head_width=0.02, head_length=0.02 ,color =  'green',alpha = 0.5)\n",
        "      ax.arrow(0.415, 0.415, -0.05,  -0.05, head_width=0.02, head_length=0.02 )\n",
        "      ax.arrow(0.405, 0.435, -0.05, -0.05, head_width=0.02, head_length=0.02 ,color =  'green',alpha = 0.5)\n",
        "      ax.arrow(0.415, 0.695,- 0.05,- 0.05, head_width=0.02, head_length=0.02 )\n",
        "      ax.arrow(0.405, 0.715, -0.05, -0.05, head_width=0.02, head_length=0.02 ,color =  'green',alpha = 0.5)\n",
        "      ax.arrow(0.7, 0.1,- 0.05,0, head_width=0.02, head_length=0.02 )\n",
        "      ax.arrow(0.7, 0.1, 0.05, 0, head_width=0.02, head_length=0.02 ,color =  'green',alpha = 0.5)\n",
        "      ax.arrow(0.415, 0.695,- 0.05,- 0.05, head_width=0.02, head_length=0.02 )\n",
        "      ax.arrow(0.405, 0.715, -0.05, -0.05, head_width=0.02, head_length=0.02 ,color =  'green',alpha = 0.5)\n",
        "      ax.arrow(0.78, 0.92, -0.05,  0, head_width=0.02, head_length=0.02 )\n",
        "      ax.arrow(0.78, 0.95, -0.05,  0, head_width=0.02, head_length=0.02 ,color =  'green',alpha = 0.5)\n",
        "\n",
        "\n",
        "    plt.ylim([0, 1])\n",
        "    plt.xlim([0, 1])\n",
        "    plt.grid(False)\n",
        "    plt.xticks(np.arange(0,1.1,1))\n",
        "    plt.yticks(np.arange(0,1.1,1))\n",
        "    #plt.title('Indiference curves')\n",
        "    plt.legend(('Incentive Constraint','$R_{payer}^*$','$R_{receiver}^*$','$P_{payer}^*$','$P_{receiver}^*$','Self-Reporting','Plea Bragaining'),bbox_to_anchor=(1.05, 1), loc='upper left')\n",
        "    plt.tight_layout()\n",
        "    if show_arrow == True:\n",
        "      plt.savefig('./fig3.pdf')\n",
        "    else:\n",
        "      plt.savefig('./fig2.pdf')\n",
        "    plt.show()"
      ],
      "metadata": {
        "id": "FwQO8xMYF5sS"
      },
      "execution_count": 186,
      "outputs": []
    },
    {
      "cell_type": "code",
      "source": [
        "alphas = alpha_solver(n,gamma,alpha,beta,a,c,f)\n",
        "get_ICs(n,alphas)"
      ],
      "metadata": {
        "id": "BYE4z-SJ2ml1",
        "outputId": "a036824a-e5ee-4c8b-b569-22ecf221060b",
        "colab": {
          "base_uri": "https://localhost:8080/",
          "height": 288
        }
      },
      "execution_count": 187,
      "outputs": [
        {
          "output_type": "display_data",
          "data": {
            "text/plain": [
              "<Figure size 360x288 with 1 Axes>"
            ],
            "image/png": "[encoded data removed]"
          },
          "metadata": {
            "needs_background": "light"
          }
        }
      ]
    },
    {
      "cell_type": "code",
      "source": [
        "get_IC_star(1000,-.1,.5,show_arrow=True)"
      ],
      "metadata": {
        "id": "uBqcx3BP_igo",
        "colab": {
          "base_uri": "https://localhost:8080/",
          "height": 298
        },
        "outputId": "51b7f569-1310-41e3-d3de-f1837611b163"
      },
      "execution_count": 188,
      "outputs": [
        {
          "output_type": "display_data",
          "data": {
            "text/plain": [
              "<Figure size 504x288 with 1 Axes>"
            ],
            "image/png": "[encoded data removed]"
          },
          "metadata": {
            "needs_background": "light"
          }
        }
      ]
    },
    {
      "cell_type": "code",
      "source": [
        "u(-100,.5)"
      ],
      "metadata": {
        "id": "RMAq8Lig2YpB",
        "outputId": "7675e09e-e433-4fb7-ceeb-3bd6e931cdba",
        "colab": {
          "base_uri": "https://localhost:8080/"
        }
      },
      "execution_count": 302,
      "outputs": [
        {
          "output_type": "execute_result",
          "data": {
            "text/plain": [
              "(-3.0000000000000013-20j)"
            ]
          },
          "metadata": {},
          "execution_count": 302
        }
      ]
    },
    {
      "cell_type": "code",
      "source": [
        "# Plotting the Isoelastic Utility Function\n",
        "\n",
        "c_domain = np.arange(-50,50,1)"
      ],
      "metadata": {
        "id": "FFo--rD92dV4"
      },
      "execution_count": 303,
      "outputs": []
    },
    {
      "cell_type": "code",
      "source": [
        "u_c = np.zeros(len(c_domain))\n",
        "c_domain = c_domain.tolist()\n",
        "for i in range(len(c_domain)):\n",
        "  u_c[i] = np.real(u(c_domain[i],.6))\n",
        "  "
      ],
      "metadata": {
        "id": "ozLh7cQ7IY7l"
      },
      "execution_count": 304,
      "outputs": []
    },
    {
      "cell_type": "code",
      "source": [
        "fig, ax = plt.subplots(figsize = (7,4))\n",
        "\n",
        "ax.plot(c_domain, u_c , linewidth=2)\n"
      ],
      "metadata": {
        "colab": {
          "base_uri": "https://localhost:8080/",
          "height": 282
        },
        "id": "q3yNNo4iK2oQ",
        "outputId": "75891296-d09e-493e-89d3-3e99f2907784"
      },
      "execution_count": 305,
      "outputs": [
        {
          "output_type": "execute_result",
          "data": {
            "text/plain": [
              "[<matplotlib.lines.Line2D at 0x7fe8e642aa50>]"
            ]
          },
          "metadata": {},
          "execution_count": 305
        },
        {
          "output_type": "display_data",
          "data": {
            "text/plain": [
              "<Figure size 504x288 with 1 Axes>"
            ],
            "image/png": "[encoded data removed]"
          },
          "metadata": {
            "needs_background": "light"
          }
        }
      ]
    },
    {
      "cell_type": "code",
      "source": [
        ""
      ],
      "metadata": {
        "id": "et-AF7vNMjQp"
      },
      "execution_count": 305,
      "outputs": []
    },
    {
      "cell_type": "code",
      "source": [
        "def u(c,eta):\n",
        "    if c == 1:\n",
        "      return np.log(c)\n",
        "    elif c > 0 :\n",
        "      return (((c**(1-eta))-1)/(1-eta))+1\n",
        "    else:\n",
        "      return (((-c**(1-eta))-1)/(1-eta))-1"
      ],
      "metadata": {
        "id": "M1lZys_xNRl9"
      },
      "execution_count": 306,
      "outputs": []
    },
    {
      "cell_type": "code",
      "source": [
        "u(-10,0.8)"
      ],
      "metadata": {
        "colab": {
          "base_uri": "https://localhost:8080/"
        },
        "id": "qaoECsYhNdoU",
        "outputId": "4eec5122-6dad-467e-f314-1ab53d264ed7"
      },
      "execution_count": 307,
      "outputs": [
        {
          "output_type": "execute_result",
          "data": {
            "text/plain": [
              "(-12.411027634851028-4.657884224936894j)"
            ]
          },
          "metadata": {},
          "execution_count": 307
        }
      ]
    },
    {
      "cell_type": "code",
      "source": [
        ""
      ],
      "metadata": {
        "id": "18KthAL_Ujed"
      },
      "execution_count": 301,
      "outputs": []
    }
  ]
}