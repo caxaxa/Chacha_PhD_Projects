{
  "nbformat": 4,
  "nbformat_minor": 0,
  "metadata": {
    "colab": {
      "name": "Untitled2.ipynb",
      "provenance": [],
      "authorship_tag": "ABX9TyMUCkBbRy7X6BDfYKRCPr2q",
      "include_colab_link": true
    },
    "kernelspec": {
      "name": "python3",
      "display_name": "Python 3"
    },
    "language_info": {
      "name": "python"
    }
  },
  "cells": [
    {
      "cell_type": "markdown",
      "metadata": {
        "id": "view-in-github",
        "colab_type": "text"
      },
      "source": [
        "<a href=\"https://colab.research.google.com/github/caxaxa/Chacha_PhD_Projects/blob/master/Incentive_Curves.ipynb\" target=\"_parent\"><img src=\"https://colab.research.google.com/assets/colab-badge.svg\" alt=\"Open In Colab\"/></a>"
      ]
    },
    {
      "cell_type": "code",
      "source": [
        "import numpy as np\n",
        "import matplotlib.pyplot as plt"
      ],
      "metadata": {
        "id": "QUg7_322-QqL"
      },
      "execution_count": 7,
      "outputs": []
    },
    {
      "cell_type": "code",
      "execution_count": 40,
      "metadata": {
        "id": "ewuLLrrtv_uh"
      },
      "outputs": [],
      "source": [
        "def get_IC_star(R_star,P_star):\n",
        "    n = 100\n",
        "    x = np.arange(0.0000001, 1,1/n )\n",
        "    N = 0.5\n",
        "\n",
        "    alphaIE = []\n",
        "    for i in x:\n",
        "        alphaIE.append(((-b/(gamma**2)) + a)/(i*(a+f))) #\n",
        "\n",
        "    alphaIE = np.asarray(alphaIE)      \n",
        "\n",
        "    alphaIB = []\n",
        "\n",
        "    for i in x:\n",
        "        alphaIB.append(((-c_b/(gamma**2)) + b)/ (i*(b+f)))  #\n",
        "\n",
        "    alphaIB = np.asarray(alphaIB)   \n",
        "\n",
        "    #Ploting Indiference curves\n",
        "\n",
        "    R = []\n",
        "    for i in x:\n",
        "        R.append((((gamma**2)*a) +( R_star*f))/(((gamma**2)*(a+f))*i)) #\n",
        "\n",
        "    R = np.asarray(R)  \n",
        "\n",
        "\n",
        "    P = [((gamma*a) +( P_star*f))/(gamma*(a+f))]*n\n",
        "\n",
        "    lim = int(((gamma*a) +( P_star*f))/(gamma*(a+f))*100)\n",
        "\n",
        "    P = np.asarray(P)  \n",
        "\n",
        "    fig, ax = plt.subplots(figsize = (5,4))\n",
        "\n",
        "    ax.plot(x, alphaIE, linewidth=2)\n",
        "    ax.plot(x, alphaIB,'--', linewidth=2)\n",
        "    ax.plot(x,R,'-.',linewidth=.5 )\n",
        "    ax.plot(P, x,linewidth=.5 )\n",
        "\n",
        "    fig.add_subplot(ax)\n",
        "\n",
        "    ax.spines['right'].set_visible(False)\n",
        "    ax.spines['top'].set_visible(False)\n",
        "\n",
        "    fig.text(0.92, 0.05, '$𝛽$')\n",
        "    fig.text(0.1, 0.9, '$𝛼$')\n",
        "    #fig.text(0.65, 0.08, '$𝛽~(P*) $')\n",
        "    #fig.text(0.02, 0.485, '$𝛼~(R*)$')\n",
        "\n",
        "    ax.fill_between(x[0:lim + 1], alphaIE[0:lim + 1], facecolor='salmon', alpha=0.1)\n",
        "    ax.fill_between(x[lim:100], alphaIE[lim:100], facecolor='green', alpha=0.1)\n",
        "    ax.fill_between( x, alphaIE , R ,facecolor='white', alpha=1,label='_nolegend_')\n",
        "    ax.fill_between(x, alphaIE, R, facecolor='yellow', alpha=0.1)\n",
        "\n",
        "    plt.ylim([0, 1])\n",
        "    plt.xlim([0, 1])\n",
        "    plt.grid(True)\n",
        "    plt.xticks(np.arange(0,1.1,.1))\n",
        "    plt.yticks(np.arange(0,1.1,.1))\n",
        "    #plt.title('Indiference curves')\n",
        "    plt.legend(('IC Payer', 'IC Receiver','Self-Reporting Bonus','Plea Agreement', 'Corruption Zone','Plea Bragaining','Self-Reporting'), bbox_to_anchor=(1.05, 1), loc='upper left')\n",
        " #   plt.savefig('./Plottings/ICSTAR_{}_W_{}_a_{}_b_{}_R_{}_P_{}_a_{}_b_{}_c_{}_f_{}_r_{}_p{}_ir{}_eta{}.pdf'\n",
        " #               .format(player,W_bar,str(alpha)[-1],str(beta)[-1],str(R)[-1],str(P)[-1],a,b,c_b,f,str(r)[-1],str(p)[-1],str(ir)[-1],str(eta)[-1]))\n",
        "    plt.show()"
      ]
    },
    {
      "cell_type": "code",
      "source": [
        "def get_ICs(alphas):\n",
        "    n = 1000\n",
        "    x = np.arange(0, 1,1/n )\n",
        "\n",
        "    #Ploting Indiference curves\n",
        "\n",
        "    fig, ax = plt.subplots(figsize = (5,4))\n",
        "\n",
        "    ax.plot(x, alphas, linewidth=2)\n",
        "\n",
        "    fig.add_subplot(ax)\n",
        "\n",
        "    ax.spines['right'].set_visible(False)\n",
        "    ax.spines['top'].set_visible(False)\n",
        "\n",
        "    fig.text(0.92, 0.05, '$𝛽$')\n",
        "    fig.text(0.11, 0.9, '$𝛼$')\n",
        "\n",
        "    ax.fill_between(x, alphas, facecolor='salmon', alpha=0.1)\n",
        "\n",
        "    plt.ylim([0, 1])\n",
        "    plt.xlim([0, 1])\n",
        "    plt.grid(False)\n",
        "    plt.xticks(np.arange(0,1.1,1))\n",
        "    plt.yticks(np.arange(0,1.1,1))\n",
        "    #plt.title('Indiference curves')\n",
        "    plt.legend(('Incentive Constraint','Corruption Zone' ),loc='best', shadow=False)\n",
        "    #plt.grid(True)\n",
        "    # fig.text(0.18, 0.2, 'Corruption')\n",
        "    # fig.text(0.5, 0.4, 'No Corruption')\n",
        " #   plt.savefig('./Plottings/ICS_{}_W_{}_a_{}_b_{}_R_{}_P_{}_a_{}_b_{}_c_{}_f_{}_r_{}_p{}_eta{}.pdf'.format(player,W_bar,str(alpha)[-1],str(beta)[-1],str(R)[-1],str(P)[-1],a,b,c_b,f,str(r)[-1],str(p)[-1],str(eta)[-1]))\n",
        "    plt.show()"
      ],
      "metadata": {
        "id": "I6uHYIPpwIr1"
      },
      "execution_count": 205,
      "outputs": []
    },
    {
      "cell_type": "code",
      "source": [
        "def get_b_star(gamma,alpha,beta,c,a):\n",
        "  return (((gamma**2)*((1-alpha*beta)*a-alpha*beta*f)) + ((gamma**2*alpha*beta*f + c)/((gamma**2)*(1-alpha*beta))))/2\n",
        "\n",
        "def get_y_payer(gamma,alpha,beta,f,b):\n",
        "  return -b +(gamma**2)*((1-alpha*beta)*a - alpha*beta*f)\n",
        "\n",
        "def get_y_receiver(gamma,alpha,beta,f,b,c):\n",
        "  return -c +(gamma**2)*((1-alpha*beta)*b - alpha*beta*f)\n",
        "\n"
      ],
      "metadata": {
        "id": "X-Qt6x3GwRP-"
      },
      "execution_count": 187,
      "outputs": []
    },
    {
      "cell_type": "code",
      "source": [
        "a = 4\n",
        "f = 5\n",
        "c = 1\n",
        "alpha = 0\n",
        "beta = 0\n",
        "gamma = .9\n",
        "\n"
      ],
      "metadata": {
        "id": "hesIyYjny_HR"
      },
      "execution_count": 188,
      "outputs": []
    },
    {
      "cell_type": "code",
      "source": [
        "#Fixed point solution\n",
        "# Numerical Solution\n",
        "def alpha_solver(n):\n",
        "  alphas = np.zeros(n)\n",
        "  for i in range(0,n,1):\n",
        "    beta = i/n \n",
        "    α = 0\n",
        "    while get_y_receiver(gamma,α,beta,f,get_b_star(gamma,α,beta,c,a),c)>0:\n",
        "      α += 1/n\n",
        "      if α>1.01:\n",
        "        break\n",
        "    alphas[i] = α -1/n\n",
        "  return alphas\n",
        "\n",
        "alphas = alpha_solver(1000)"
      ],
      "metadata": {
        "id": "GkfefguEzpuo"
      },
      "execution_count": 207,
      "outputs": []
    },
    {
      "cell_type": "code",
      "source": [
        "#CHeck if the result is the same for the receiver\n",
        "# #Fixed point solution\n",
        "# # Numerical Solution\n",
        "# alphas = np.zeros(100)\n",
        "# for i in range(0,100,1):\n",
        "#   beta = i/100 \n",
        "#   α = 0\n",
        "#   while get_y_payer(gamma,α,beta,f,get_b_star(gamma,α,beta,c,a))>0:\n",
        "#     α += .01\n",
        "#     if α>1.02:\n",
        "#       break\n",
        "#   alphas[i] = α -0.01\n",
        "  \n",
        "\n",
        "# alphas"
      ],
      "metadata": {
        "id": "hiCU6woV-M2s"
      },
      "execution_count": 208,
      "outputs": []
    },
    {
      "cell_type": "code",
      "source": [
        "get_ICs(alphas)"
      ],
      "metadata": {
        "id": "xlDqD8m1-PSY",
        "outputId": "eb91a2b5-1da6-41d9-e7fc-e4a132fb474a",
        "colab": {
          "base_uri": "https://localhost:8080/",
          "height": 288
        }
      },
      "execution_count": 209,
      "outputs": [
        {
          "output_type": "display_data",
          "data": {
            "text/plain": [
              "<Figure size 360x288 with 1 Axes>"
            ],
            "image/png": "[encoded data removed]"
          },
          "metadata": {
            "needs_background": "light"
          }
        }
      ]
    },
    {
      "cell_type": "code",
      "source": [
        ""
      ],
      "metadata": {
        "id": "POBhOKBkLlyt"
      },
      "execution_count": 209,
      "outputs": []
    },
    {
      "cell_type": "code",
      "source": [
        ""
      ],
      "metadata": {
        "id": "kfqR2QY9WyM3"
      },
      "execution_count": null,
      "outputs": []
    }
  ]
}