{
  "nbformat": 4,
  "nbformat_minor": 0,
  "metadata": {
    "colab": {
      "name": "Untitled2.ipynb",
      "provenance": [],
      "authorship_tag": "ABX9TyN34Hes7tfdDSDQHN1SOpDV",
      "include_colab_link": true
    },
    "kernelspec": {
      "name": "python3",
      "display_name": "Python 3"
    },
    "language_info": {
      "name": "python"
    }
  },
  "cells": [
    {
      "cell_type": "markdown",
      "metadata": {
        "id": "view-in-github",
        "colab_type": "text"
      },
      "source": [
        "<a href=\"https://colab.research.google.com/github/caxaxa/Chacha_PhD_Projects/blob/master/Incentive_Curves.ipynb\" target=\"_parent\"><img src=\"https://colab.research.google.com/assets/colab-badge.svg\" alt=\"Open In Colab\"/></a>"
      ]
    },
    {
      "cell_type": "code",
      "source": [
        "import numpy as np\n",
        "import matplotlib.pyplot as plt"
      ],
      "metadata": {
        "id": "QUg7_322-QqL"
      },
      "execution_count": 3,
      "outputs": []
    },
    {
      "cell_type": "code",
      "execution_count": 63,
      "metadata": {
        "id": "ewuLLrrtv_uh"
      },
      "outputs": [],
      "source": [
        "def get_IC_star(n,R_star,P_star,show_arrow = False):\n",
        "    x = np.arange(0.0000001, 1,1/n )\n",
        "    N = 0.5\n",
        "\n",
        "\n",
        "    alphas = alpha_solver(n)\n",
        "\n",
        "    #Ploting Indiference curves\n",
        "\n",
        "    P_p = P_payer_solver(n,P_star)\n",
        "    R_p = R_payer_solver(n,R_star)\n",
        "\n",
        "    R_r = np.zeros(n)\n",
        "    for  i in range(n):\n",
        "      R_r[i]=((((R_star*f)/(gamma**2))+a)/(((i+0.01)/n)*(a+f))) #\n",
        "\n",
        "    P_r =  ((((P_star*(f))/gamma)+(a))/(a+f))\n",
        "    \n",
        "\n",
        "    fig, ax = plt.subplots(figsize = (7,4))\n",
        "\n",
        "    ax.plot(x, alphas, linewidth=2)\n",
        "    ax.plot(x,R_p,'-.',linewidth=.5 )\n",
        "    ax.plot(x,R_r,linewidth=.5 )\n",
        "    ax.plot(x,P_p,'--',color='blue',linewidth=.5 )\n",
        "    ax.axvline(P_r, color= 'green', linewidth = .8)\n",
        "\n",
        "    # ax.plot(P, x ,linewidth=.5 )\n",
        "\n",
        "    fig.add_subplot(ax)\n",
        "\n",
        "    ax.spines['right'].set_visible(False)\n",
        "    ax.spines['top'].set_visible(False)\n",
        "\n",
        "    fig.text(0.58, 0.05, '$𝛽$')\n",
        "    fig.text(0.025, 0.9, '$𝛼$')\n",
        "    #fig.text(0.65, 0.08, '$𝛽~(P*) $')\n",
        "    #fig.text(0.02, 0.485, '$𝛼~(R*)$')\n",
        "\n",
        "    \n",
        "    lim = int(700) \n",
        "\n",
        "    ax.fill_between(x[0:lim], alphas[0:lim], facecolor='salmon', alpha=0.1)\n",
        "    ax.fill_between(x, alphas , R_p ,facecolor='white', alpha=1,label='_nolegend_')\n",
        "    ax.fill_between(x, alphas, R_p, facecolor='yellow', alpha=0.1)\n",
        "    #ax.fill_between(P_p, x, facecolor='yellow', alpha=0.1)\n",
        "    ax.fill_between(x[lim: n], R_p[lim : n], facecolor='green', alpha=0.1)\n",
        "\n",
        "    if show_arrow == True:\n",
        "      ax.arrow(0.6, 0.17,- 0.05,- 0.05, head_width=0.02, head_length=0.02 )\n",
        "      ax.arrow(0.6, 0.17, 0.05, 0.05, head_width=0.02, head_length=0.02 ,color =  'green',alpha = 0.5)\n",
        "      ax.arrow(0.41, 0.41, -0.05,  -0.05, head_width=0.02, head_length=0.02 )\n",
        "      ax.arrow(0.40, 0.43, -0.05, -0.05, head_width=0.02, head_length=0.02 ,color =  'green',alpha = 0.5)\n",
        "      ax.arrow(0.42, 0.7,- 0.05,- 0.05, head_width=0.02, head_length=0.02 )\n",
        "      ax.arrow(0.42, 0.7, 0.05, 0.05, head_width=0.02, head_length=0.02 ,color =  'green',alpha = 0.5)\n",
        "\n",
        "\n",
        "    plt.ylim([0, 1])\n",
        "    plt.xlim([0, 1])\n",
        "    plt.grid(False)\n",
        "    plt.xticks(np.arange(0,1.1,1))\n",
        "    plt.yticks(np.arange(0,1.1,1))\n",
        "    #plt.title('Indiference curves')\n",
        "    plt.legend(('Incentive Constraint','$R_{payer}^*$','$R_{receiver}^*$','$P_{payer}^*$','$P_{receiver}^*$','Self-Reporting','Plea Bragaining'),bbox_to_anchor=(1.05, 1), loc='upper left')\n",
        "    plt.tight_layout()\n",
        "    plt.savefig('./fig3.pdf')\n",
        "    plt.show()"
      ]
    },
    {
      "cell_type": "code",
      "source": [
        "get_IC_star(1000,-.35,.5,show_arrow=True)"
      ],
      "metadata": {
        "colab": {
          "base_uri": "https://localhost:8080/",
          "height": 298
        },
        "id": "uYa8DvOeVT_k",
        "outputId": "ef48fb01-c5af-4398-e683-0ebbe1851b6d"
      },
      "execution_count": 64,
      "outputs": [
        {
          "output_type": "display_data",
          "data": {
            "text/plain": [
              "<Figure size 504x288 with 1 Axes>"
            ],
            "image/png": "[encoded data removed]"
          },
          "metadata": {
            "needs_background": "light"
          }
        }
      ]
    },
    {
      "cell_type": "code",
      "source": [
        ""
      ],
      "metadata": {
        "id": "jSuC4oopbBQB"
      },
      "execution_count": 5,
      "outputs": []
    },
    {
      "cell_type": "code",
      "source": [
        "def get_ICs(alphas):\n",
        "    n = 1000\n",
        "    x = np.arange(0, 1,1/n )\n",
        "\n",
        "    #Ploting Indiference curves\n",
        "\n",
        "    fig, ax = plt.subplots(figsize = (5,4))\n",
        "\n",
        "    ax.plot(x, alphas, linewidth=2)\n",
        "\n",
        "    fig.add_subplot(ax)\n",
        "\n",
        "    ax.spines['right'].set_visible(False)\n",
        "    ax.spines['top'].set_visible(False)\n",
        "\n",
        "    fig.text(0.92, 0.05, '$𝛽$')\n",
        "    fig.text(0.11, 0.9, '$𝛼$')\n",
        "\n",
        "    ax.fill_between(x, alphas, facecolor='salmon', alpha=0.1)\n",
        "\n",
        "    plt.ylim([0, 1])\n",
        "    plt.xlim([0, 1])\n",
        "    plt.grid(False)\n",
        "    plt.xticks(np.arange(0,1.1,1))\n",
        "    plt.yticks(np.arange(0,1.1,1))\n",
        "    #plt.title('Indiference curves')\n",
        "    plt.legend(('Incentive Constraint','Corruption Zone' ),loc='best', shadow=False)\n",
        "    #plt.grid(True)\n",
        "    # fig.text(0.18, 0.2, 'Corruption')\n",
        "    # fig.text(0.5, 0.4, 'No Corruption')\n",
        "    plt.savefig('./fig1.pdf')\n",
        "    plt.show()"
      ],
      "metadata": {
        "id": "I6uHYIPpwIr1"
      },
      "execution_count": 6,
      "outputs": []
    },
    {
      "cell_type": "code",
      "source": [
        "def get_b_star(gamma,alpha,beta,c,a):\n",
        "  return (((gamma**2)*((1-alpha*beta)*a-alpha*beta*f)) + ((gamma**2*alpha*beta*f + c)/((gamma**2)*(1-alpha*beta))))/2\n",
        "\n",
        "def get_y_payer(gamma,alpha,beta,f,b):\n",
        "  return -b +(gamma**2)*((1-alpha*beta)*a - alpha*beta*f)\n",
        "\n",
        "def get_y_receiver(gamma,alpha,beta,f,b,c):\n",
        "  return -c +(gamma**2)*((1-alpha*beta)*b - alpha*beta*f)\n",
        "\n"
      ],
      "metadata": {
        "id": "X-Qt6x3GwRP-"
      },
      "execution_count": 7,
      "outputs": []
    },
    {
      "cell_type": "code",
      "source": [
        "a = 5\n",
        "f = 5\n",
        "c = 1\n",
        "\n",
        "gamma = .9\n",
        "\n"
      ],
      "metadata": {
        "id": "hesIyYjny_HR"
      },
      "execution_count": 8,
      "outputs": []
    },
    {
      "cell_type": "code",
      "source": [
        "#Fixed point solution\n",
        "# Numerical Solution\n",
        "def alpha_solver(n):\n",
        "  alphas = np.zeros(n)\n",
        "  for i in range(0,n,1):\n",
        "    beta = i/n \n",
        "    alpha = 0\n",
        "    while get_y_receiver(gamma,alpha,beta,f,get_b_star(gamma,alpha,beta,c,a),c)>0:\n",
        "      alpha += 1/n\n",
        "      if alpha>1.01:\n",
        "        break\n",
        "    alphas[i] = alpha -1/n\n",
        "  return alphas\n",
        "\n",
        "alphas = alpha_solver(1000)"
      ],
      "metadata": {
        "id": "GkfefguEzpuo"
      },
      "execution_count": 9,
      "outputs": []
    },
    {
      "cell_type": "code",
      "source": [
        "#CHeck if the result is the same for the receiver\n",
        "# #Fixed point solution\n",
        "# # Numerical Solution\n",
        "# alphas = np.zeros(100)\n",
        "# for i in range(0,100,1):\n",
        "#   beta = i/100 \n",
        "#   α = 0\n",
        "#   while get_y_payer(gamma,α,beta,f,get_b_star(gamma,α,beta,c,a))>0:\n",
        "#     α += .01\n",
        "#     if α>1.02:\n",
        "#       break\n",
        "#   alphas[i] = α -0.01\n",
        "  \n",
        "\n",
        "# alphas"
      ],
      "metadata": {
        "id": "hiCU6woV-M2s"
      },
      "execution_count": 10,
      "outputs": []
    },
    {
      "cell_type": "code",
      "source": [
        "get_ICs(alphas)"
      ],
      "metadata": {
        "colab": {
          "base_uri": "https://localhost:8080/",
          "height": 288
        },
        "id": "xlDqD8m1-PSY",
        "outputId": "48683f98-c52e-4ca1-d8a2-ccfbe7626480"
      },
      "execution_count": 11,
      "outputs": [
        {
          "output_type": "display_data",
          "data": {
            "text/plain": [
              "<Figure size 360x288 with 1 Axes>"
            ],
            "image/png": "[encoded data removed]"
          },
          "metadata": {
            "needs_background": "light"
          }
        }
      ]
    },
    {
      "cell_type": "code",
      "source": [
        "get_IC_star(200,-.5,.5)"
      ],
      "metadata": {
        "colab": {
          "base_uri": "https://localhost:8080/",
          "height": 287
        },
        "id": "POBhOKBkLlyt",
        "outputId": "06682165-c810-40e3-d62a-61b3c4d1fd49"
      },
      "execution_count": 12,
      "outputs": [
        {
          "output_type": "error",
          "ename": "NameError",
          "evalue": "ignored",
          "traceback": [
            "\u001b[0;31m---------------------------------------------------------------------------\u001b[0m",
            "\u001b[0;31mNameError\u001b[0m                                 Traceback (most recent call last)",
            "\u001b[0;32m<ipython-input-12-6c16bb721ee2>\u001b[0m in \u001b[0;36m<module>\u001b[0;34m()\u001b[0m\n\u001b[0;32m----> 1\u001b[0;31m \u001b[0mget_IC_star\u001b[0m\u001b[0;34m(\u001b[0m\u001b[0;36m200\u001b[0m\u001b[0;34m,\u001b[0m\u001b[0;34m-\u001b[0m\u001b[0;36m.5\u001b[0m\u001b[0;34m,\u001b[0m\u001b[0;36m.5\u001b[0m\u001b[0;34m)\u001b[0m\u001b[0;34m\u001b[0m\u001b[0;34m\u001b[0m\u001b[0m\n\u001b[0m",
            "\u001b[0;32m<ipython-input-4-0f69002292bc>\u001b[0m in \u001b[0;36mget_IC_star\u001b[0;34m(n, R_star, P_star, show_arrow)\u001b[0m\n\u001b[1;32m      8\u001b[0m     \u001b[0;31m#Ploting Indiference curves\u001b[0m\u001b[0;34m\u001b[0m\u001b[0;34m\u001b[0m\u001b[0;34m\u001b[0m\u001b[0m\n\u001b[1;32m      9\u001b[0m \u001b[0;34m\u001b[0m\u001b[0m\n\u001b[0;32m---> 10\u001b[0;31m     \u001b[0mP_p\u001b[0m \u001b[0;34m=\u001b[0m \u001b[0mP_payer_solver\u001b[0m\u001b[0;34m(\u001b[0m\u001b[0mn\u001b[0m\u001b[0;34m,\u001b[0m\u001b[0mP_star\u001b[0m\u001b[0;34m)\u001b[0m\u001b[0;34m\u001b[0m\u001b[0;34m\u001b[0m\u001b[0m\n\u001b[0m\u001b[1;32m     11\u001b[0m     \u001b[0mR_p\u001b[0m \u001b[0;34m=\u001b[0m \u001b[0mR_payer_solver\u001b[0m\u001b[0;34m(\u001b[0m\u001b[0mn\u001b[0m\u001b[0;34m,\u001b[0m\u001b[0mR_star\u001b[0m\u001b[0;34m)\u001b[0m\u001b[0;34m\u001b[0m\u001b[0;34m\u001b[0m\u001b[0m\n\u001b[1;32m     12\u001b[0m \u001b[0;34m\u001b[0m\u001b[0m\n",
            "\u001b[0;31mNameError\u001b[0m: name 'P_payer_solver' is not defined"
          ]
        }
      ]
    },
    {
      "cell_type": "code",
      "source": [
        "def P_payer_solver(n,P_star):\n",
        "  P_p = np.zeros(n)\n",
        "  for i in range(0,n,1):\n",
        "    beta = i/n \n",
        "    alpha = 0\n",
        "    while gamma*((1-beta)*get_b_star(gamma,alpha,beta,c,a)-beta*f)/f < -P_star:\n",
        "      alpha += 1/n\n",
        "      if alpha>1.01:\n",
        "        break\n",
        "    P_p[i] = alpha -1/n\n",
        "  return P_p"
      ],
      "metadata": {
        "id": "kfqR2QY9WyM3"
      },
      "execution_count": 13,
      "outputs": []
    },
    {
      "cell_type": "code",
      "source": [
        "def R_payer_solver(n,R_star):\n",
        "  R_p = np.zeros(n)\n",
        "  for i in range(0,n,1):\n",
        "    beta = i/n \n",
        "    alpha = 0\n",
        "    while ((1-alpha*beta)*get_b_star(gamma,alpha,beta,c,a)-alpha*beta*f)/f  >  -R_star:\n",
        "      alpha += 1/n\n",
        "      if alpha > 1.01:\n",
        "        break\n",
        "    R_p[i] = alpha - 1/n\n",
        "  return R_p\n",
        "R_payer_solver(200,-0.3)"
      ],
      "metadata": {
        "colab": {
          "base_uri": "https://localhost:8080/"
        },
        "id": "vbQJ1ueRF4aW",
        "outputId": "55de6912-c03d-4d00-c880-72acb77af5ef"
      },
      "execution_count": 14,
      "outputs": [
        {
          "output_type": "execute_result",
          "data": {
            "text/plain": [
              "array([1.005, 1.005, 1.005, 1.005, 1.005, 1.005, 1.005, 1.005, 1.005,\n",
              "       1.005, 1.005, 1.005, 1.005, 1.005, 1.005, 1.005, 1.005, 1.005,\n",
              "       1.005, 1.005, 1.005, 1.005, 1.005, 1.005, 1.005, 1.005, 1.005,\n",
              "       1.005, 1.005, 0.985, 0.95 , 0.92 , 0.89 , 0.865, 0.84 , 0.815,\n",
              "       0.79 , 0.77 , 0.75 , 0.73 , 0.71 , 0.695, 0.68 , 0.66 , 0.645,\n",
              "       0.63 , 0.62 , 0.605, 0.595, 0.58 , 0.57 , 0.56 , 0.545, 0.535,\n",
              "       0.525, 0.515, 0.51 , 0.5  , 0.49 , 0.48 , 0.475, 0.465, 0.46 ,\n",
              "       0.45 , 0.445, 0.435, 0.43 , 0.425, 0.42 , 0.41 , 0.405, 0.4  ,\n",
              "       0.395, 0.39 , 0.385, 0.38 , 0.375, 0.37 , 0.365, 0.36 , 0.355,\n",
              "       0.35 , 0.345, 0.34 , 0.34 , 0.335, 0.33 , 0.325, 0.32 , 0.32 ,\n",
              "       0.315, 0.31 , 0.31 , 0.305, 0.3  , 0.3  , 0.295, 0.29 , 0.29 ,\n",
              "       0.285, 0.285, 0.28 , 0.28 , 0.275, 0.27 , 0.27 , 0.265, 0.265,\n",
              "       0.26 , 0.26 , 0.255, 0.255, 0.255, 0.25 , 0.25 , 0.245, 0.245,\n",
              "       0.24 , 0.24 , 0.24 , 0.235, 0.235, 0.23 , 0.23 , 0.23 , 0.225,\n",
              "       0.225, 0.22 , 0.22 , 0.22 , 0.215, 0.215, 0.215, 0.21 , 0.21 ,\n",
              "       0.21 , 0.21 , 0.205, 0.205, 0.205, 0.2  , 0.2  , 0.2  , 0.195,\n",
              "       0.195, 0.195, 0.195, 0.19 , 0.19 , 0.19 , 0.19 , 0.185, 0.185,\n",
              "       0.185, 0.185, 0.18 , 0.18 , 0.18 , 0.18 , 0.175, 0.175, 0.175,\n",
              "       0.175, 0.175, 0.17 , 0.17 , 0.17 , 0.17 , 0.17 , 0.165, 0.165,\n",
              "       0.165, 0.165, 0.165, 0.16 , 0.16 , 0.16 , 0.16 , 0.16 , 0.155,\n",
              "       0.155, 0.155, 0.155, 0.155, 0.155, 0.15 , 0.15 , 0.15 , 0.15 ,\n",
              "       0.15 , 0.15 , 0.145, 0.145, 0.145, 0.145, 0.145, 0.145, 0.145,\n",
              "       0.14 , 0.14 ])"
            ]
          },
          "metadata": {},
          "execution_count": 14
        }
      ]
    },
    {
      "cell_type": "code",
      "source": [
        "P_payer_solver(500,.3)"
      ],
      "metadata": {
        "id": "FwQO8xMYF5sS"
      },
      "execution_count": null,
      "outputs": []
    },
    {
      "cell_type": "code",
      "source": [
        ""
      ],
      "metadata": {
        "id": "uBqcx3BP_igo"
      },
      "execution_count": null,
      "outputs": []
    }
  ]
}