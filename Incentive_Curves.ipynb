{
  "nbformat": 4,
  "nbformat_minor": 0,
  "metadata": {
    "colab": {
      "name": "Untitled2.ipynb",
      "provenance": [],
      "authorship_tag": "ABX9TyOTgtLH+DNHyf1oGyJw6WYQ",
      "include_colab_link": true
    },
    "kernelspec": {
      "name": "python3",
      "display_name": "Python 3"
    },
    "language_info": {
      "name": "python"
    }
  },
  "cells": [
    {
      "cell_type": "markdown",
      "metadata": {
        "id": "view-in-github",
        "colab_type": "text"
      },
      "source": [
        "<a href=\"https://colab.research.google.com/github/caxaxa/Chacha_PhD_Projects/blob/master/Incentive_Curves.ipynb\" target=\"_parent\"><img src=\"https://colab.research.google.com/assets/colab-badge.svg\" alt=\"Open In Colab\"/></a>"
      ]
    },
    {
      "cell_type": "code",
      "source": [
        "import numpy as np\n",
        "import matplotlib.pyplot as plt"
      ],
      "metadata": {
        "id": "QUg7_322-QqL"
      },
      "execution_count": 3,
      "outputs": []
    },
    {
      "cell_type": "code",
      "execution_count": 150,
      "metadata": {
        "id": "ewuLLrrtv_uh"
      },
      "outputs": [],
      "source": [
        "def get_IC_star(R_star,P_star):\n",
        "    n = 1000\n",
        "    x = np.arange(0.0000001, 1,1/n )\n",
        "    N = 0.5\n",
        "\n",
        "\n",
        "    alphas = np.zeros(n)\n",
        "    for i in range(0,n,1):\n",
        "      beta = i/n \n",
        "      α = 0\n",
        "      while get_y_receiver(gamma,α,beta,f,get_b_star(gamma,α,beta,c,a),c)>0:\n",
        "        α += 1/n\n",
        "        if α>1.01:\n",
        "          break\n",
        "      alphas[i] = α -1/n\n",
        "\n",
        "\n",
        "    #Ploting Indiference curves\n",
        "\n",
        "\n",
        "    R = []\n",
        "    for i in x:\n",
        "        R.append( (((R_star*f)/(gamma**2))+a)/(i*(a+f))) #\n",
        "\n",
        "    R = np.asarray(R)  \n",
        "\n",
        "\n",
        "    # P = []\n",
        "\n",
        "    # for i in x:\n",
        "    #   P.append( ((((P_star*(f))/gamma)+(a))/(a+f)) +i*0 ) #\n",
        "\n",
        "    # P = np.asarray(P) \n",
        "    P =  ((((P_star*(f))/gamma)+(a))/(a+f))\n",
        "\n",
        "    fig, ax = plt.subplots(figsize = (5,4))\n",
        "\n",
        "    ax.plot(x, alphas, linewidth=2)#\n",
        "    ax.plot(x,R,'-.',linewidth=.5 )\n",
        "    ax.axvline(P, color= 'green', linewidth = .8)\n",
        "    # ax.plot(P, x ,linewidth=.5 )\n",
        "\n",
        "    fig.add_subplot(ax)\n",
        "\n",
        "    ax.spines['right'].set_visible(False)\n",
        "    ax.spines['top'].set_visible(False)\n",
        "\n",
        "    fig.text(0.92, 0.05, '$𝛽$')\n",
        "    fig.text(0.1, 0.9, '$𝛼$')\n",
        "    #fig.text(0.65, 0.08, '$𝛽~(P*) $')\n",
        "    #fig.text(0.02, 0.485, '$𝛼~(R*)$')\n",
        "\n",
        "    \n",
        "    lim = int(P*n) \n",
        "\n",
        "    ax.fill_between(x[0:lim + 1], alphas[0:lim + 1], facecolor='salmon', alpha=0.1)\n",
        "    ax.fill_between(x, alphas , R ,facecolor='white', alpha=1,label='_nolegend_')\n",
        "    ax.fill_between(x, alphas, R, facecolor='yellow', alpha=0.1)\n",
        "    ax.fill_between(P, x, facecolor='yellow', alpha=0.1)\n",
        "    ax.fill_between(x[lim + 1 : n], R[lim + 1 : n], facecolor='green', alpha=0.1)\n",
        "\n",
        "    plt.ylim([0, 1])\n",
        "    plt.xlim([0, 1])\n",
        "    plt.grid(False)\n",
        "    plt.xticks(np.arange(0,1.1,1))\n",
        "    plt.yticks(np.arange(0,1.1,1))\n",
        "    #plt.title('Indiference curves')\n",
        "    plt.legend(('IC Payer','Self-Reporting Bonus','Plea Agreement', 'Corruption Zone','Plea Bragaining','Self-Reporting'), loc='upper right')\n",
        "    plt.savefig('./fig2.pdf')\n",
        "    plt.show()"
      ]
    },
    {
      "cell_type": "code",
      "source": [
        "get_IC_star(-.5,.5)"
      ],
      "metadata": {
        "id": "uYa8DvOeVT_k",
        "outputId": "fe1844e4-b26c-4545-aad4-1b2e6d114383",
        "colab": {
          "base_uri": "https://localhost:8080/",
          "height": 288
        }
      },
      "execution_count": 151,
      "outputs": [
        {
          "output_type": "display_data",
          "data": {
            "text/plain": [
              "<Figure size 360x288 with 1 Axes>"
            ],
            "image/png": "[encoded data removed]"
          },
          "metadata": {
            "needs_background": "light"
          }
        }
      ]
    },
    {
      "cell_type": "code",
      "source": [
        "((((0.5*(f))/gamma)+(a))/(a+f))"
      ],
      "metadata": {
        "id": "jSuC4oopbBQB",
        "outputId": "dfbfeb9d-6a17-45b3-98af-2248f9709549",
        "colab": {
          "base_uri": "https://localhost:8080/"
        }
      },
      "execution_count": 112,
      "outputs": [
        {
          "output_type": "execute_result",
          "data": {
            "text/plain": [
              "0.7530864197530864"
            ]
          },
          "metadata": {},
          "execution_count": 112
        }
      ]
    },
    {
      "cell_type": "code",
      "source": [
        "def get_ICs(alphas):\n",
        "    n = 1000\n",
        "    x = np.arange(0, 1,1/n )\n",
        "\n",
        "    #Ploting Indiference curves\n",
        "\n",
        "    fig, ax = plt.subplots(figsize = (5,4))\n",
        "\n",
        "    ax.plot(x, alphas, linewidth=2)\n",
        "\n",
        "    fig.add_subplot(ax)\n",
        "\n",
        "    ax.spines['right'].set_visible(False)\n",
        "    ax.spines['top'].set_visible(False)\n",
        "\n",
        "    fig.text(0.92, 0.05, '$𝛽$')\n",
        "    fig.text(0.11, 0.9, '$𝛼$')\n",
        "\n",
        "    ax.fill_between(x, alphas, facecolor='salmon', alpha=0.1)\n",
        "\n",
        "    plt.ylim([0, 1])\n",
        "    plt.xlim([0, 1])\n",
        "    plt.grid(False)\n",
        "    plt.xticks(np.arange(0,1.1,1))\n",
        "    plt.yticks(np.arange(0,1.1,1))\n",
        "    #plt.title('Indiference curves')\n",
        "    plt.legend(('Incentive Constraint','Corruption Zone' ),loc='best', shadow=False)\n",
        "    #plt.grid(True)\n",
        "    # fig.text(0.18, 0.2, 'Corruption')\n",
        "    # fig.text(0.5, 0.4, 'No Corruption')\n",
        "    plt.savefig('./fig1.pdf')\n",
        "    plt.show()"
      ],
      "metadata": {
        "id": "I6uHYIPpwIr1"
      },
      "execution_count": 101,
      "outputs": []
    },
    {
      "cell_type": "code",
      "source": [
        "def get_b_star(gamma,alpha,beta,c,a):\n",
        "  return (((gamma**2)*((1-alpha*beta)*a-alpha*beta*f)) + ((gamma**2*alpha*beta*f + c)/((gamma**2)*(1-alpha*beta))))/2\n",
        "\n",
        "def get_y_payer(gamma,alpha,beta,f,b):\n",
        "  return -b +(gamma**2)*((1-alpha*beta)*a - alpha*beta*f)\n",
        "\n",
        "def get_y_receiver(gamma,alpha,beta,f,b,c):\n",
        "  return -c +(gamma**2)*((1-alpha*beta)*b - alpha*beta*f)\n",
        "\n"
      ],
      "metadata": {
        "id": "X-Qt6x3GwRP-"
      },
      "execution_count": 6,
      "outputs": []
    },
    {
      "cell_type": "code",
      "source": [
        "a = 4\n",
        "f = 5\n",
        "c = 1\n",
        "alpha = 0\n",
        "beta = 0\n",
        "gamma = .9\n",
        "\n"
      ],
      "metadata": {
        "id": "hesIyYjny_HR"
      },
      "execution_count": 7,
      "outputs": []
    },
    {
      "cell_type": "code",
      "source": [
        "#Fixed point solution\n",
        "# Numerical Solution\n",
        "def alpha_solver(n):\n",
        "  alphas = np.zeros(n)\n",
        "  for i in range(0,n,1):\n",
        "    beta = i/n \n",
        "    α = 0\n",
        "    while get_y_receiver(gamma,α,beta,f,get_b_star(gamma,α,beta,c,a),c)>0:\n",
        "      α += 1/n\n",
        "      if α>1.01:\n",
        "        break\n",
        "    alphas[i] = α -1/n\n",
        "  return alphas\n",
        "\n",
        "alphas = alpha_solver(1000)"
      ],
      "metadata": {
        "id": "GkfefguEzpuo"
      },
      "execution_count": 8,
      "outputs": []
    },
    {
      "cell_type": "code",
      "source": [
        "#CHeck if the result is the same for the receiver\n",
        "# #Fixed point solution\n",
        "# # Numerical Solution\n",
        "# alphas = np.zeros(100)\n",
        "# for i in range(0,100,1):\n",
        "#   beta = i/100 \n",
        "#   α = 0\n",
        "#   while get_y_payer(gamma,α,beta,f,get_b_star(gamma,α,beta,c,a))>0:\n",
        "#     α += .01\n",
        "#     if α>1.02:\n",
        "#       break\n",
        "#   alphas[i] = α -0.01\n",
        "  \n",
        "\n",
        "# alphas"
      ],
      "metadata": {
        "id": "hiCU6woV-M2s"
      },
      "execution_count": 9,
      "outputs": []
    },
    {
      "cell_type": "code",
      "source": [
        "get_ICs(alphas)"
      ],
      "metadata": {
        "colab": {
          "base_uri": "https://localhost:8080/",
          "height": 288
        },
        "id": "xlDqD8m1-PSY",
        "outputId": "45934521-c09f-42c9-ea65-b30279665743"
      },
      "execution_count": 10,
      "outputs": [
        {
          "output_type": "display_data",
          "data": {
            "text/plain": [
              "<Figure size 360x288 with 1 Axes>"
            ],
            "image/png": "[encoded data removed]"
          },
          "metadata": {
            "needs_background": "light"
          }
        }
      ]
    },
    {
      "cell_type": "code",
      "source": [
        "get_IC_star(-.5,.5)"
      ],
      "metadata": {
        "colab": {
          "base_uri": "https://localhost:8080/",
          "height": 288
        },
        "id": "POBhOKBkLlyt",
        "outputId": "1b35ed88-1421-49ee-86da-9e14c7a39789"
      },
      "execution_count": 19,
      "outputs": [
        {
          "output_type": "display_data",
          "data": {
            "text/plain": [
              "<Figure size 360x288 with 1 Axes>"
            ],
            "image/png": "[encoded data removed]"
          },
          "metadata": {
            "needs_background": "light"
          }
        }
      ]
    },
    {
      "cell_type": "code",
      "source": [
        ""
      ],
      "metadata": {
        "id": "kfqR2QY9WyM3"
      },
      "execution_count": null,
      "outputs": []
    }
  ]
}